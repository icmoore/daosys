{
 "cells": [
  {
   "cell_type": "markdown",
   "id": "4b608714-3152-46db-bac8-f73d35299bd3",
   "metadata": {},
   "source": [
    "### Impermanent Loss Research\n",
    "* https://pintail.medium.com/uniswap-a-good-deal-for-liquidity-providers-104c0b6816f2\n",
    "    * Original introductory article (Pintail) on impermanent loss\n",
    "* https://pintail.medium.com/understanding-uniswap-returns-cc593f3499ef\n",
    "    * Pintail redefines as divergent loss "
   ]
  }
 ],
 "metadata": {
  "kernelspec": {
   "display_name": "Python 3 (ipykernel)",
   "language": "python",
   "name": "python3"
  },
  "language_info": {
   "codemirror_mode": {
    "name": "ipython",
    "version": 3
   },
   "file_extension": ".py",
   "mimetype": "text/x-python",
   "name": "python",
   "nbconvert_exporter": "python",
   "pygments_lexer": "ipython3",
   "version": "3.9.7"
  }
 },
 "nbformat": 4,
 "nbformat_minor": 5
}
