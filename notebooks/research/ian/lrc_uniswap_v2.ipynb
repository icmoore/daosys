{
 "cells": [
  {
   "cell_type": "markdown",
   "id": "8144fe6f-1e30-4a74-87b6-7a026e88e203",
   "metadata": {},
   "source": [
    "### Task 158: V2 liquidity fix\n",
    "* Ti: Token input\n",
    "* To: Token output\n",
    "* Tr: Token ratio\n",
    "* R: Reserve (total)\n",
    "* F: Fee imposed on swap (ie, 0.3%)\n",
    "* Ri: Reserve Input\n",
    "* Ro: Reserve Output\n",
    "* Ai: Amount of input token \n",
    "* Ao: Amount of output token \n",
    "* S: actual swap amount in execution in output token"
   ]
  },
  {
   "cell_type": "markdown",
   "id": "d06685ff-5abb-4007-b29f-04aabdfd33e9",
   "metadata": {},
   "source": [
    "### References\n",
    "* https://docs.uniswap.org/protocol/V2/concepts/protocol-overview/how-uniswap-works\n",
    "* https://ethereum.org/en/developers/tutorials/uniswap-v2-annotated-code/\n",
    "* https://uniswap.org/whitepaper.pdf\n",
    "* https://medium.com/@chiqing/uniswap-v2-explained-beginner-friendly-b5d2cb64fe0f\n",
    "* https://jeiwan.net/posts/programming-defi-uniswapv2-4/\n",
    "* https://betterprogramming.pub/uniswap-v2-in-depth-98075c826254\n",
    "* https://docs.uniswap.org/protocol/V2/concepts/core-concepts/swaps"
   ]
  },
  {
   "cell_type": "markdown",
   "id": "bfedf1b0-affb-43bc-a62f-0ed2f7ba1d62",
   "metadata": {},
   "source": [
    "### Solidity Code\n",
    "* https://github.com/Uniswap/v2-core/blob/master/contracts/UniswapV2Pair.sol#L159\n",
    "* https://github.com/Uniswap/v2-periphery/blob/master/contracts/libraries/UniswapV2Library.sol"
   ]
  },
  {
   "cell_type": "code",
   "execution_count": 1,
   "id": "2d4ea1c5-48c5-4932-afbe-442be754f1be",
   "metadata": {},
   "outputs": [],
   "source": [
    "from IPython.display import Image\n",
    "import os\n",
    "cwd =  os.getcwd().replace(\"notebooks/research/ian\",\"\")\n",
    "os.chdir(cwd)"
   ]
  },
  {
   "cell_type": "markdown",
   "id": "e0dc490d-c106-4b2a-b0c3-eab6bef3b924",
   "metadata": {},
   "source": [
    "#### Mathematical Mapping Legend\n",
    "* reserveIn (Ri) -> x\n",
    "* reserveOut (Ro) -> y\n",
    "* amountIn (Ai) -> $\\Delta$x\n",
    "* amountOut (Ao) -> $\\Delta$y\n",
    "* 1 - swap fee -> r = (1 - 0.003) or (997/1000)"
   ]
  },
  {
   "cell_type": "code",
   "execution_count": 2,
   "id": "57474c2e-b27b-4dc3-ad76-611632188208",
   "metadata": {},
   "outputs": [],
   "source": [
    "Ti = 16 # Token input\n",
    "To = 13 # Token output\n",
    "R = 1000 # Total reserve\n",
    "F = 997 # Fee imposed on swap\n",
    "Ao = 10 # Amount of output token you want"
   ]
  },
  {
   "cell_type": "markdown",
   "id": "9eb14b70-8fc5-4f10-91dd-6fb540ef34fe",
   "metadata": {},
   "source": [
    "How much LP to remove\n",
    "\n",
    "$\\Delta$k = xy - (x - r$\\Delta$x)(y - $\\Delta$y)\n",
    "\n",
    "* reserve0 (Ri) -> x\n",
    "* reserve1 (Ro) -> y\n",
    "* amountOut (Ao) -> $\\Delta$y\n",
    "* k -> k\n",
    "\n",
    "$\\Delta$ x = x $\\left(1-\\sqrt{1 - \\frac{\\Delta k}{k}} \\right)$\n",
    "\n",
    "$\\Delta$ y = y $\\left(1-\\sqrt{1 - \\frac{\\Delta k}{k}} \\right)$\n",
    "\n",
    "(x - $\\Delta$x)(y - $\\Delta$y) = k - $\\Delta$ k"
   ]
  },
  {
   "cell_type": "markdown",
   "id": "fb83e325-57a7-442a-a8a2-099be690655b",
   "metadata": {},
   "source": [
    "### Extract LP from one of the token reserves\n",
    "Start with this\n",
    "> (x)(y - r$\\Delta$y) = k - $\\Delta$ k\n",
    "\n",
    "Do the algebra, and we have amount LP out:\n",
    "> $\\Delta$ k = xr$\\Delta$y\n",
    "\n",
    "Likewise, we have amount desired token required:\n",
    "> $\\Delta$ y = $\\frac{r \\Delta k}{x}$"
   ]
  },
  {
   "cell_type": "code",
   "execution_count": 3,
   "id": "d4dceeb5-8228-47b9-b0c4-11bac51cee3c",
   "metadata": {},
   "outputs": [],
   "source": [
    "def getAmountLPOut(Ai,x):\n",
    "    return x*997*Ai/1000\n",
    "\n",
    "def getAmountIn4LP(Ao,x):\n",
    "    return (1000*Ao)/(997*x) "
   ]
  },
  {
   "cell_type": "code",
   "execution_count": 4,
   "id": "d81a1571-5d61-4c06-b5d3-9b3c9329281d",
   "metadata": {},
   "outputs": [
    {
     "data": {
      "text/plain": [
       "80"
      ]
     },
     "execution_count": 4,
     "metadata": {},
     "output_type": "execute_result"
    }
   ],
   "source": [
    "x = 10\n",
    "y = 8\n",
    "k = x*y\n",
    "k"
   ]
  },
  {
   "cell_type": "code",
   "execution_count": 5,
   "id": "db60afc0-70c6-4b84-ad00-34bd6546ba28",
   "metadata": {},
   "outputs": [
    {
     "name": "stdout",
     "output_type": "stream",
     "text": [
      "To remove 3 of y, we need to extract 29.91 LP\n"
     ]
    }
   ],
   "source": [
    "Ai = 3\n",
    "\n",
    "Ao = getAmountLPOut(Ai,x)\n",
    "\n",
    "print('To remove {} of y, we need to extract {} LP'.format(Ai,Ao))"
   ]
  },
  {
   "cell_type": "code",
   "execution_count": 6,
   "id": "2193027b-d25f-408c-8c2c-fa8aabd38677",
   "metadata": {},
   "outputs": [
    {
     "name": "stdout",
     "output_type": "stream",
     "text": [
      "We confirm that 3.0 of y is required as input\n"
     ]
    }
   ],
   "source": [
    "Ai = getAmountIn4LP(Ao,x)\n",
    "\n",
    "print('We confirm that {} of y is required as input'.format(Ai))"
   ]
  },
  {
   "cell_type": "code",
   "execution_count": 7,
   "id": "4e2d585b-aca4-4c57-bfb3-bd43c8998d59",
   "metadata": {},
   "outputs": [
    {
     "ename": "NameError",
     "evalue": "name 'kdel' is not defined",
     "output_type": "error",
     "traceback": [
      "\u001b[0;31m---------------------------------------------------------------------------\u001b[0m",
      "\u001b[0;31mNameError\u001b[0m                                 Traceback (most recent call last)",
      "\u001b[0;32m/var/folders/97/wcmz4r710pj20v_3cnvl09cm0000gn/T/ipykernel_71769/2956545931.py\u001b[0m in \u001b[0;36m<module>\u001b[0;34m\u001b[0m\n\u001b[1;32m      1\u001b[0m \u001b[0;32mimport\u001b[0m \u001b[0mnumpy\u001b[0m \u001b[0;32mas\u001b[0m \u001b[0mnp\u001b[0m\u001b[0;34m\u001b[0m\u001b[0;34m\u001b[0m\u001b[0m\n\u001b[0;32m----> 2\u001b[0;31m \u001b[0mxnew\u001b[0m \u001b[0;34m=\u001b[0m \u001b[0mx\u001b[0m\u001b[0;34m*\u001b[0m\u001b[0;34m(\u001b[0m\u001b[0mnp\u001b[0m\u001b[0;34m.\u001b[0m\u001b[0msqrt\u001b[0m\u001b[0;34m(\u001b[0m\u001b[0;36m1\u001b[0m\u001b[0;34m-\u001b[0m\u001b[0mkdel\u001b[0m\u001b[0;34m/\u001b[0m\u001b[0mk\u001b[0m\u001b[0;34m)\u001b[0m\u001b[0;34m)\u001b[0m\u001b[0;34m\u001b[0m\u001b[0;34m\u001b[0m\u001b[0m\n\u001b[0m\u001b[1;32m      3\u001b[0m \u001b[0mynew\u001b[0m \u001b[0;34m=\u001b[0m \u001b[0my\u001b[0m\u001b[0;34m*\u001b[0m\u001b[0;34m(\u001b[0m\u001b[0mnp\u001b[0m\u001b[0;34m.\u001b[0m\u001b[0msqrt\u001b[0m\u001b[0;34m(\u001b[0m\u001b[0;36m1\u001b[0m\u001b[0;34m-\u001b[0m\u001b[0mkdel\u001b[0m\u001b[0;34m/\u001b[0m\u001b[0mk\u001b[0m\u001b[0;34m)\u001b[0m\u001b[0;34m)\u001b[0m\u001b[0;34m\u001b[0m\u001b[0;34m\u001b[0m\u001b[0m\n\u001b[1;32m      4\u001b[0m \u001b[0mxnew\u001b[0m\u001b[0;34m*\u001b[0m\u001b[0mynew\u001b[0m\u001b[0;34m\u001b[0m\u001b[0;34m\u001b[0m\u001b[0m\n",
      "\u001b[0;31mNameError\u001b[0m: name 'kdel' is not defined"
     ]
    }
   ],
   "source": [
    "import numpy as np\n",
    "xnew = x*(np.sqrt(1-kdel/k))\n",
    "ynew = y*(np.sqrt(1-kdel/k))\n",
    "xnew*ynew"
   ]
  },
  {
   "cell_type": "code",
   "execution_count": null,
   "id": "eba7d351-ca7d-43c3-8b04-7ab4b4f4f0ac",
   "metadata": {},
   "outputs": [],
   "source": [
    "xdel = x*(1-np.sqrt(1-kdel/k)); xdel"
   ]
  },
  {
   "cell_type": "code",
   "execution_count": null,
   "id": "5be236b1-7259-48ad-aa40-3110176f3551",
   "metadata": {},
   "outputs": [],
   "source": [
    "ydel = y*(1-np.sqrt(1-kdel/k)); ydel"
   ]
  },
  {
   "cell_type": "code",
   "execution_count": null,
   "id": "fa20a271-d8d3-49e6-8d3b-5a13ddb8d254",
   "metadata": {},
   "outputs": [],
   "source": [
    "(x-xdel)*(y-ydel)"
   ]
  },
  {
   "cell_type": "code",
   "execution_count": null,
   "id": "a63cd4c6-97b7-4a7a-9ccc-f31764d4710f",
   "metadata": {},
   "outputs": [],
   "source": [
    "(x-xdel)*(y-ydel)"
   ]
  },
  {
   "cell_type": "code",
   "execution_count": null,
   "id": "827209ee-193e-41a5-ab4a-450f80721b9d",
   "metadata": {},
   "outputs": [],
   "source": [
    "ydel1=1\n",
    "(ydel1*1000 + (ydel1*1000 - ydel1*997))/1000"
   ]
  },
  {
   "cell_type": "code",
   "execution_count": null,
   "id": "9919723f-73d8-49f1-8fa5-46bb041aa79d",
   "metadata": {},
   "outputs": [],
   "source": [
    "ydel1 = (1000*kdel)/(997*x) \n",
    "(x)*(y-ydel1)"
   ]
  },
  {
   "cell_type": "code",
   "execution_count": null,
   "id": "ae2c371a-ee33-4d92-8b67-30e4a3a77a8d",
   "metadata": {},
   "outputs": [],
   "source": [
    "ydel=1"
   ]
  },
  {
   "cell_type": "code",
   "execution_count": null,
   "id": "6cdc11dd-e48b-4fce-a9da-07c852f0cab6",
   "metadata": {},
   "outputs": [],
   "source": [
    "k - x*(y-997*ydel/1000)"
   ]
  },
  {
   "cell_type": "code",
   "execution_count": null,
   "id": "7bf89be3-23e3-42cc-95c5-525c9a05f65b",
   "metadata": {},
   "outputs": [],
   "source": [
    "x*997*ydel/1000"
   ]
  },
  {
   "cell_type": "code",
   "execution_count": null,
   "id": "d5f9d61f-9a89-4dc6-a7ed-bd2fdc70eb35",
   "metadata": {},
   "outputs": [],
   "source": [
    "Ao = getAmountOut(ydel,x)\n",
    "getAmountIn(Ao,x)"
   ]
  },
  {
   "cell_type": "code",
   "execution_count": null,
   "id": "4c7ea7a8-e57d-4f36-9dc1-d665049da522",
   "metadata": {},
   "outputs": [],
   "source": [
    "def getAmountOut(ydel,R1):\n",
    "    return R1*997*ydel/1000"
   ]
  },
  {
   "cell_type": "code",
   "execution_count": null,
   "id": "0c363b15-98df-463f-90f5-986a691084f5",
   "metadata": {},
   "outputs": [],
   "source": [
    "def getAmountIn(kdel,R1):\n",
    "    return (1000*kdel)/(997*R1) "
   ]
  },
  {
   "cell_type": "code",
   "execution_count": null,
   "id": "b46e1aaa-0c4d-419c-a2b4-7e7001e9161f",
   "metadata": {},
   "outputs": [],
   "source": [
    "ydel1"
   ]
  },
  {
   "cell_type": "code",
   "execution_count": null,
   "id": "49836c33-e88c-4c22-8317-2ab1334edbda",
   "metadata": {},
   "outputs": [],
   "source": [
    "Tr = Ti/(Ti+To); Tr"
   ]
  },
  {
   "cell_type": "markdown",
   "id": "8071790b-79e4-4e95-b4a2-3c4b98ad3aba",
   "metadata": {},
   "source": [
    "#### Update reserveIn"
   ]
  },
  {
   "cell_type": "code",
   "execution_count": null,
   "id": "0a1149b0-c80b-420a-8f7b-b28b5a0c87e6",
   "metadata": {},
   "outputs": [],
   "source": [
    "Ri = R - (Ao*Tr*1000/F)*(1 + Ao/(R-Ao)); Ri"
   ]
  },
  {
   "cell_type": "markdown",
   "id": "412f1c32-0b7d-4cee-add8-d5d2a989c31a",
   "metadata": {},
   "source": [
    "#### Update reserveOut"
   ]
  },
  {
   "cell_type": "code",
   "execution_count": null,
   "id": "2f1db553-2f57-4e0c-8697-eaa77c67004e",
   "metadata": {},
   "outputs": [],
   "source": [
    "Ro = R - (Ao*(1-Tr)*1000/F)*(1 + Ao/(R-Ao)); Ro"
   ]
  },
  {
   "cell_type": "code",
   "execution_count": null,
   "id": "6ac18649-d61f-4c11-ad38-56f41e73d4f1",
   "metadata": {},
   "outputs": [],
   "source": [
    "# (LRC eq.) Ri + Ro\n",
    "Ri*Ro"
   ]
  },
  {
   "cell_type": "markdown",
   "id": "fd3fc903-59d3-4ea0-81f4-8cb3a2557037",
   "metadata": {},
   "source": [
    "#### Get amountIn"
   ]
  },
  {
   "cell_type": "code",
   "execution_count": null,
   "id": "0fa246dc-fd6e-4517-8904-c54abb3391e9",
   "metadata": {},
   "outputs": [],
   "source": [
    "Image(\"images/jupyter/random/delta_x.png\", width = 600, height = 600)"
   ]
  },
  {
   "cell_type": "code",
   "execution_count": null,
   "id": "c79e2a33-cb79-4719-964f-2705d23d5a1a",
   "metadata": {},
   "outputs": [],
   "source": [
    "# (LRC eq.) Ai = -(1000*Ao*Tr*Ri)/(F*(Ao-Ro)); Ai\n",
    "Ai = (1000*Ao*Ri)/(F*(Ro-Ao)); Ai"
   ]
  },
  {
   "cell_type": "markdown",
   "id": "e160178d-8e99-47d0-8ee9-4e2494183183",
   "metadata": {},
   "source": [
    "#### Get swap amount"
   ]
  },
  {
   "cell_type": "code",
   "execution_count": null,
   "id": "4f77912f-744d-4a66-8d88-6bc9e5913f60",
   "metadata": {},
   "outputs": [],
   "source": [
    "Image(\"images/jupyter/random/delta_y_math.png\", width = 600, height = 600)"
   ]
  },
  {
   "cell_type": "code",
   "execution_count": null,
   "id": "a2a8c4d6-eda1-45d3-9200-86337d85af2b",
   "metadata": {},
   "outputs": [],
   "source": [
    "Image(\"images/jupyter/random/delta_y_program.png\", width = 600, height = 600)"
   ]
  },
  {
   "cell_type": "code",
   "execution_count": null,
   "id": "71627879-8d1a-4256-8937-afc435efc75d",
   "metadata": {},
   "outputs": [],
   "source": [
    "# (LRC eq.) S = (Ai*F*Ro)/(Ri*1000 + Ao*F); S\n",
    "S = (Ai*F*Ro)/(Ri*1000 + Ai*F); S"
   ]
  },
  {
   "cell_type": "code",
   "execution_count": null,
   "id": "55d1ff38-961a-4d6e-bc5c-61859f4fef9c",
   "metadata": {},
   "outputs": [],
   "source": [
    "Ro"
   ]
  },
  {
   "cell_type": "code",
   "execution_count": null,
   "id": "8437db3b-622c-4ff0-8994-799ab216c9f6",
   "metadata": {},
   "outputs": [],
   "source": [
    "# (LRC eq.) (R-Ro) + S"
   ]
  }
 ],
 "metadata": {
  "kernelspec": {
   "display_name": "Python 3 (ipykernel)",
   "language": "python",
   "name": "python3"
  },
  "language_info": {
   "codemirror_mode": {
    "name": "ipython",
    "version": 3
   },
   "file_extension": ".py",
   "mimetype": "text/x-python",
   "name": "python",
   "nbconvert_exporter": "python",
   "pygments_lexer": "ipython3",
   "version": "3.9.7"
  }
 },
 "nbformat": 4,
 "nbformat_minor": 5
}
