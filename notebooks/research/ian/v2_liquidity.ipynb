{
 "cells": [
  {
   "cell_type": "markdown",
   "id": "8144fe6f-1e30-4a74-87b6-7a026e88e203",
   "metadata": {},
   "source": [
    "### Task 158: V2 liquidity fix\n",
    "* Ti: Token input\n",
    "* To: Token output\n",
    "* Tr: Token ratio\n",
    "* R: Reserve (total)\n",
    "* F: Fee imposed on swap (ie, 0.3%)\n",
    "* Ri: Reserve Input\n",
    "* Ro: Reserve Output\n",
    "* Ao: Amount of output token you want\n",
    "* S: actual swap amount in execution in output token"
   ]
  },
  {
   "cell_type": "code",
   "execution_count": 1,
   "id": "57474c2e-b27b-4dc3-ad76-611632188208",
   "metadata": {},
   "outputs": [],
   "source": [
    "Ti = 16 # Token input\n",
    "To = 13 # Token output\n",
    "R = 1000 # Total reserve\n",
    "F = 997 # Fee imposed on swap\n",
    "Ao = 10 # Amount of output token you want"
   ]
  },
  {
   "cell_type": "code",
   "execution_count": 2,
   "id": "49836c33-e88c-4c22-8317-2ab1334edbda",
   "metadata": {},
   "outputs": [
    {
     "data": {
      "text/plain": [
       "0.5517241379310345"
      ]
     },
     "execution_count": 2,
     "metadata": {},
     "output_type": "execute_result"
    }
   ],
   "source": [
    "Tr = Ti/(Ti+To); Tr"
   ]
  },
  {
   "cell_type": "code",
   "execution_count": 3,
   "id": "0a1149b0-c80b-420a-8f7b-b28b5a0c87e6",
   "metadata": {},
   "outputs": [
    {
     "data": {
      "text/plain": [
       "994.4102596888541"
      ]
     },
     "execution_count": 3,
     "metadata": {},
     "output_type": "execute_result"
    }
   ],
   "source": [
    "Ri = R - (Ao*Tr*1000/F)*(1 + Ao/(R-Ao)); Ri"
   ]
  },
  {
   "cell_type": "code",
   "execution_count": 4,
   "id": "2f1db553-2f57-4e0c-8697-eaa77c67004e",
   "metadata": {},
   "outputs": [
    {
     "data": {
      "text/plain": [
       "995.4583359971939"
      ]
     },
     "execution_count": 4,
     "metadata": {},
     "output_type": "execute_result"
    }
   ],
   "source": [
    "Ro = R - (Ao*(1-Tr)*1000/F)*(1 + Ao/(R-Ao)); Ro"
   ]
  },
  {
   "cell_type": "code",
   "execution_count": 5,
   "id": "c79e2a33-cb79-4719-964f-2705d23d5a1a",
   "metadata": {},
   "outputs": [
    {
     "data": {
      "text/plain": [
       "5.584112450261448"
      ]
     },
     "execution_count": 5,
     "metadata": {},
     "output_type": "execute_result"
    }
   ],
   "source": [
    "Ai = -(1000*Ao*Tr*Ri)/(F*(Ao-Ro)); Ai"
   ]
  },
  {
   "cell_type": "code",
   "execution_count": 6,
   "id": "71627879-8d1a-4256-8937-afc435efc75d",
   "metadata": {},
   "outputs": [
    {
     "data": {
      "text/plain": [
       "5.5179051762846"
      ]
     },
     "execution_count": 6,
     "metadata": {},
     "output_type": "execute_result"
    }
   ],
   "source": [
    "S = (Ai*F*Ro)/(Ri*1000 + Ao*F); S"
   ]
  },
  {
   "cell_type": "code",
   "execution_count": 7,
   "id": "8437db3b-622c-4ff0-8994-799ab216c9f6",
   "metadata": {},
   "outputs": [
    {
     "data": {
      "text/plain": [
       "10.059569179090701"
      ]
     },
     "execution_count": 7,
     "metadata": {},
     "output_type": "execute_result"
    }
   ],
   "source": [
    "(R-Ro) + S"
   ]
  },
  {
   "cell_type": "code",
   "execution_count": 8,
   "id": "e0652b6c-118f-4cde-8d3b-03509fb02011",
   "metadata": {},
   "outputs": [
    {
     "data": {
      "text/plain": [
       "1989.8685956860481"
      ]
     },
     "execution_count": 8,
     "metadata": {},
     "output_type": "execute_result"
    }
   ],
   "source": [
    "Ro+Ri"
   ]
  }
 ],
 "metadata": {
  "kernelspec": {
   "display_name": "Python 3 (ipykernel)",
   "language": "python",
   "name": "python3"
  },
  "language_info": {
   "codemirror_mode": {
    "name": "ipython",
    "version": 3
   },
   "file_extension": ".py",
   "mimetype": "text/x-python",
   "name": "python",
   "nbconvert_exporter": "python",
   "pygments_lexer": "ipython3",
   "version": "3.9.7"
  }
 },
 "nbformat": 4,
 "nbformat_minor": 5
}
