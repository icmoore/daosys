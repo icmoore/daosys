{
 "cells": [
  {
   "cell_type": "markdown",
   "id": "5f5b4224-655e-4a81-b918-715b4c9c623e",
   "metadata": {},
   "source": [
    "cwd### Simulation: Masternode Yield Farming"
   ]
  },
  {
   "cell_type": "code",
   "execution_count": 2,
   "id": "b85660fe-dfb2-48e5-b25c-b225ab99aea3",
   "metadata": {},
   "outputs": [
    {
     "data": {
      "text/plain": [
       "'/Users/ian_moore/repos/daosys/notebooks/simulation'"
      ]
     },
     "execution_count": 2,
     "metadata": {},
     "output_type": "execute_result"
    }
   ],
   "source": [
    "cwd"
   ]
  },
  {
   "cell_type": "code",
   "execution_count": 1,
   "id": "2f8e2b86-aaca-4f8f-b4ad-f8d5fb9e60c2",
   "metadata": {},
   "outputs": [
    {
     "ename": "ModuleNotFoundError",
     "evalue": "No module named 'python'",
     "output_type": "error",
     "traceback": [
      "\u001b[0;31m---------------------------------------------------------------------------\u001b[0m",
      "\u001b[0;31mModuleNotFoundError\u001b[0m                       Traceback (most recent call last)",
      "\u001b[0;32m/var/folders/97/wcmz4r710pj20v_3cnvl09cm0000gn/T/ipykernel_53803/2601684442.py\u001b[0m in \u001b[0;36m<module>\u001b[0;34m\u001b[0m\n\u001b[1;32m      9\u001b[0m \u001b[0mos\u001b[0m\u001b[0;34m.\u001b[0m\u001b[0mchdir\u001b[0m\u001b[0;34m(\u001b[0m\u001b[0mcwd\u001b[0m\u001b[0;34m)\u001b[0m\u001b[0;34m\u001b[0m\u001b[0;34m\u001b[0m\u001b[0m\n\u001b[1;32m     10\u001b[0m \u001b[0;34m\u001b[0m\u001b[0m\n\u001b[0;32m---> 11\u001b[0;31m \u001b[0;32mfrom\u001b[0m \u001b[0mpython\u001b[0m\u001b[0;34m.\u001b[0m\u001b[0mdev\u001b[0m\u001b[0;34m.\u001b[0m\u001b[0mhelper\u001b[0m \u001b[0;32mimport\u001b[0m \u001b[0mHelper\u001b[0m\u001b[0;34m\u001b[0m\u001b[0;34m\u001b[0m\u001b[0m\n\u001b[0m\u001b[1;32m     12\u001b[0m \u001b[0;34m\u001b[0m\u001b[0m\n\u001b[1;32m     13\u001b[0m \u001b[0;32mfrom\u001b[0m \u001b[0mpython\u001b[0m\u001b[0;34m.\u001b[0m\u001b[0mdev\u001b[0m\u001b[0;34m.\u001b[0m\u001b[0msimulation\u001b[0m \u001b[0;32mimport\u001b[0m \u001b[0mSimulationOrchestrator\u001b[0m\u001b[0;34m\u001b[0m\u001b[0;34m\u001b[0m\u001b[0m\n",
      "\u001b[0;31mModuleNotFoundError\u001b[0m: No module named 'python'"
     ]
    }
   ],
   "source": [
    "import os\n",
    "import copy\n",
    "import numpy as np\n",
    "import pandas as pd\n",
    "import time\n",
    "import matplotlib.pyplot as plt\n",
    "from IPython.display import Image\n",
    "cwd =  os.getcwd().replace(\"notebooks/research/impermanent_loss\",\"\")\n",
    "os.chdir(cwd)\n",
    "\n",
    "from python.dev.helper import Helper\n",
    "\n",
    "from python.dev.simulation import SimulationOrchestrator\n",
    "from python.dev.simulation import EventQueue\n",
    "from python.dev.simulation import EventExecutor\n",
    "from python.dev.simulation.batch import ActionBatch\n",
    "from python.dev.simulation.batch import MergeBatch\n",
    "\n",
    "from python.dev.agent import TokenAgent\n",
    "from python.dev.agent import LPTokenAgent\n",
    "from python.dev.agent import UserAgent\n",
    "\n",
    "from python.dev.action import MintAction\n",
    "from python.dev.action import DepositAction\n",
    "from python.dev.action import LPDepositChainAction\n",
    "from python.dev.action import DepositChainAction\n",
    "from python.dev.action import WithdrawChainAction\n",
    "from python.dev.action import WithdrawAction\n",
    "from python.dev.action import SwapAction\n",
    "from python.dev.event import Mint\n",
    "from python.dev.event import Deposit\n",
    "from python.dev.event import Withdraw\n",
    "from python.dev.event import Swap\n",
    "\n",
    "from python.dev.math.model import TokenDeltaModel\n",
    "from python.dev.math.model import TimeDeltaModel\n",
    "from python.dev.math.model import ModelQueue\n",
    "\n",
    "from python.dev.lp import LiquidityPool\n",
    "from python.dev.lp.event import LPEvent\n",
    "from python.dev.lp.event import MintLPEvent\n",
    "from python.dev.lp.event import DepositLPEvent\n",
    "from python.dev.lp.event import SwapLPEvent"
   ]
  },
  {
   "cell_type": "code",
   "execution_count": null,
   "id": "ac88596e-355b-4fae-b8ac-3962695f5692",
   "metadata": {},
   "outputs": [],
   "source": [
    "Image(\"images/jupyter/tutorials/masternode_nft.png\", width = 600, height = 600)"
   ]
  },
  {
   "cell_type": "markdown",
   "id": "3aab447f-26a9-4898-a04c-cf99a6141c0b",
   "metadata": {},
   "source": [
    "### Initialize Agents"
   ]
  },
  {
   "cell_type": "code",
   "execution_count": null,
   "id": "ed4d1a6d-d638-4939-a5fc-1234f9e0453d",
   "metadata": {},
   "outputs": [],
   "source": [
    "USER1 = UserAgent('USER1')\n",
    "SYS = TokenAgent('SYS')\n",
    "DAI = TokenAgent('DAI')\n",
    "SYS_DAI_LP = LiquidityPool('SYS/DAI', USER1, SYS, DAI)\n",
    "SYS_DAI = LPTokenAgent('SYS_DAI_LP', SYS_DAI_LP)"
   ]
  },
  {
   "cell_type": "markdown",
   "id": "db4de42f-cfce-4221-8bb1-e83ab284d4fa",
   "metadata": {},
   "source": [
    "### Mint Tokens"
   ]
  },
  {
   "cell_type": "code",
   "execution_count": null,
   "id": "fb378031-440b-4c1a-8dde-3bb26646af5e",
   "metadata": {},
   "outputs": [],
   "source": [
    "apy = 0.1\n",
    "t_delta = 109*24*3600\n",
    "N_RUNS = 5*365"
   ]
  },
  {
   "cell_type": "code",
   "execution_count": null,
   "id": "553291de-2411-42cf-95ed-b251a116f019",
   "metadata": {},
   "outputs": [],
   "source": [
    "SYS_mint1 = Mint(5000, apy, True)\n",
    "DAI_mint1 = Mint(5000, apy, True)\n",
    "SYS_DAI_LP_mint1 = Mint(0, apy, True)\n",
    "\n",
    "m_action1 = MintAction(SYS_mint1, SYS, USER1)\n",
    "m_action2 = MintAction(DAI_mint1, DAI, USER1)\n",
    "m_action3 = MintAction(SYS_DAI_LP_mint1, SYS_DAI, USER1)"
   ]
  },
  {
   "cell_type": "code",
   "execution_count": null,
   "id": "38c9325f-bc95-4eed-8397-9f8f8808388c",
   "metadata": {},
   "outputs": [],
   "source": [
    "sBatch = ActionBatch('SETUP1')\n",
    "sBatch.init_action(m_action1)\n",
    "sBatch.init_action(m_action2)\n",
    "sBatch.init_action(m_action3)\n",
    "\n",
    "setup_batch = sBatch.generate()"
   ]
  },
  {
   "cell_type": "code",
   "execution_count": null,
   "id": "735a9ddf-cbab-4105-ab62-23ba2ff1c1a7",
   "metadata": {},
   "outputs": [],
   "source": [
    "sBatch.inspect()"
   ]
  },
  {
   "cell_type": "markdown",
   "id": "04946423-49d1-4594-a0d6-e689747219a4",
   "metadata": {},
   "source": [
    "### Setup Actions"
   ]
  },
  {
   "cell_type": "markdown",
   "id": "633c8ecb-376f-488e-bbe5-0529080ee62d",
   "metadata": {},
   "source": [
    "### Batchset 2"
   ]
  },
  {
   "cell_type": "code",
   "execution_count": null,
   "id": "22b8a84a-0348-464d-bb2f-c0d1f8284d12",
   "metadata": {},
   "outputs": [],
   "source": [
    "r_deposit_obj = ModelQueue().apply(np.random.normal(50, 10, N_RUNS))\n",
    "r_withdraw_obj = ModelQueue().apply(np.random.normal(25, 10, N_RUNS))\n",
    "\n",
    "r_swap_model = np.random.normal(25, 10, N_RUNS)\n",
    "r_sub_swap_obj1 = ModelQueue().apply(r_swap_model)\n",
    "r_sub_swap_obj2 = ModelQueue().apply(r_swap_model)\n",
    "\n",
    "t_delta_model = TimeDeltaModel().apply(p = 0.00001, n = N_RUNS)\n",
    "t_delta_obj3 = ModelQueue().apply(t_delta_model)\n",
    "t_delta_obj4 = ModelQueue().apply(t_delta_model)"
   ]
  },
  {
   "cell_type": "code",
   "execution_count": null,
   "id": "3c0d6a48-07c9-4ce9-9634-53593280e9a6",
   "metadata": {},
   "outputs": [],
   "source": [
    "import seaborn as sns\n",
    "fig, (dist1_ax, dist2_ax) = plt.subplots(ncols=2, sharex=False, sharey=False, figsize=(20, 8))\n",
    "\n",
    "r_obj1 = np.random.normal(50, 5, N_RUNS)\n",
    "r_obj2 = np.random.normal(25, 5, N_RUNS)\n",
    "\n",
    "blue, _, red = sns.color_palette()[:3]\n",
    "dist1_ax.hist(r_obj1, 50, color=blue, density=True, alpha=0.5, lw=0, label='deposits');\n",
    "dist1_ax.hist(r_obj2, 50, color=red, density=True, alpha=0.5, lw=0, label='withdrawals');\n",
    "dist1_ax.set_xlim(left=0)\n",
    "dist1_ax.set_xlabel('Token deltas [SYS]', fontsize=14)\n",
    "dist1_ax.set_yticks([])\n",
    "dist1_ax.set_xlim(5, 65);\n",
    "dist1_ax.set_title(\"Model: Token deposit and withdraw deltas\", fontsize=20);\n",
    "dist1_ax.legend(loc='upper right');\n",
    "\n",
    "dist2_ax.hist(t_delta_model, 50, color=red, alpha=0.5, lw=0, label='time');\n",
    "dist2_ax.set_xlabel('Time deltas [seconds]', fontsize=14);\n",
    "dist2_ax.set_title(\"Model: Time deltas\", fontsize=20);\n",
    "dist2_ax.legend();"
   ]
  },
  {
   "cell_type": "code",
   "execution_count": null,
   "id": "8fa72da9-1fab-46b7-b0ff-10319afabf12",
   "metadata": {},
   "outputs": [],
   "source": [
    "deposit_event = Deposit(apy, r_deposit_obj, t_delta_obj3) \n",
    "sub_withdraw_event = Withdraw(apy, r_sub_swap_obj1, 0)\n",
    "sub_deposit_event = Deposit(apy, r_sub_swap_obj2, t_delta_obj4)\n",
    "withdraw_event = Withdraw(apy, r_withdraw_obj, 0) "
   ]
  },
  {
   "cell_type": "code",
   "execution_count": null,
   "id": "1ff28577-97d9-4894-8b31-66683a70e2fe",
   "metadata": {},
   "outputs": [],
   "source": [
    "# Deposit SYS\n",
    "d_action1 = DepositAction(deposit_event, SYS, USER1, SYS_mint1.get_id())\n",
    "\n",
    "# Swap SYS for DAI\n",
    "sub_w_action = WithdrawAction(sub_withdraw_event, SYS, USER1, SYS_mint1.get_id())\n",
    "sub_d_action = DepositAction(sub_deposit_event, DAI, USER1, DAI_mint1.get_id())\n",
    "s_action1 = SwapAction(sub_w_action, sub_d_action)\n",
    "\n",
    "# Withdraw DAI and SYS proceeds \n",
    "w_action1 = WithdrawChainAction(s_action1, DAI, USER1, DAI_mint1.get_id())\n",
    "w_action2 = WithdrawAction(withdraw_event, SYS, USER1, SYS_mint1.get_id())\n",
    "\n",
    "# Deposit withdrawn DAI and SYS in LP\n",
    "d_action2 = LPDepositChainAction(w_action1, w_action2, SYS_DAI, USER1, SYS_DAI_LP_mint1.get_id())"
   ]
  },
  {
   "cell_type": "code",
   "execution_count": null,
   "id": "7593998c-cb1c-4c25-bb31-4debad06f75c",
   "metadata": {},
   "outputs": [],
   "source": [
    "aBatch = ActionBatch('RUN1', N_RUNS)\n",
    "aBatch.add_action(d_action1)\n",
    "aBatch.add_action(s_action1)\n",
    "aBatch.add_action(w_action1)\n",
    "aBatch.add_action(w_action2)\n",
    "aBatch.add_action(d_action2)"
   ]
  },
  {
   "cell_type": "code",
   "execution_count": null,
   "id": "f209533e-6803-40de-8e75-2f33e36941ec",
   "metadata": {},
   "outputs": [],
   "source": [
    "aBatch.inspect()\n",
    "action_batch = aBatch.generate()"
   ]
  },
  {
   "cell_type": "markdown",
   "id": "f2c7167a-409d-45e1-8f62-e09111497081",
   "metadata": {},
   "source": [
    "### Setup event queue"
   ]
  },
  {
   "cell_type": "code",
   "execution_count": null,
   "id": "189785f8-f6d3-49ba-89e8-3dd14a1db0f3",
   "metadata": {},
   "outputs": [],
   "source": [
    "q = EventQueue()\n",
    "q.add_setup_batch(setup_batch)\n",
    "q.add_action_batch(action_batch)\n",
    "q.freeze()"
   ]
  },
  {
   "cell_type": "markdown",
   "id": "85c30e52-48b2-4737-be8f-823ae33a2862",
   "metadata": {},
   "source": [
    "### Execute events"
   ]
  },
  {
   "cell_type": "code",
   "execution_count": null,
   "id": "40428bc0-0452-45ca-ad48-cf70f2ac8d74",
   "metadata": {},
   "outputs": [],
   "source": [
    "all_batches = q.get_all_batches()\n",
    "\n",
    "orchestrator = SimulationOrchestrator(verbose = False)\n",
    "executor = EventExecutor(q, orchestrator)\n",
    "executor.run()"
   ]
  },
  {
   "cell_type": "code",
   "execution_count": null,
   "id": "33e61ac4-fac9-468d-84c4-34ebd2b5ac0d",
   "metadata": {},
   "outputs": [],
   "source": [
    "#orchestrator.print_logs()"
   ]
  },
  {
   "cell_type": "markdown",
   "id": "c7a99fa1-34de-48db-8324-d9f5b4cac435",
   "metadata": {},
   "source": [
    "### Analyze"
   ]
  },
  {
   "cell_type": "code",
   "execution_count": null,
   "id": "f6f4d597-43f5-4199-bff4-f7a4ee75aa20",
   "metadata": {},
   "outputs": [],
   "source": [
    "tSYS = SYS.get_token()\n",
    "tDAI = DAI.get_token()\n",
    "tSYS_DAI = SYS_DAI.get_token()\n",
    "\n",
    "SYS_addr1 = SYS.get_address(SYS_mint1.get_id())\n",
    "DAI_addr1 = DAI.get_address(DAI_mint1.get_id())\n",
    "SYS_DAI_addr1 = SYS_DAI.get_address(SYS_DAI_LP_mint1.get_id())"
   ]
  },
  {
   "cell_type": "code",
   "execution_count": null,
   "id": "57cb7e7e-878c-4a54-a2b9-35b5cc980bd6",
   "metadata": {},
   "outputs": [],
   "source": [
    "SYS_states1 = tSYS.get_state_series(SYS_addr1)\n",
    "principle = SYS_states1.get_principle() \n",
    "balance = SYS_states1.get_balance() \n",
    "tSamp = SYS_states1.get_tstamp()  \n",
    "\n",
    "fig, (SYS_ax, DAI_ax, SYS_DAI_ax) = plt.subplots(nrows=3, sharex=True, sharey=False, figsize=(18, 15))\n",
    "\n",
    "SYS_ax.plot(tSamp[1:], balance[1:], label='balance') \n",
    "SYS_ax.plot(tSamp[1:], principle[1:], label='principle') \n",
    "SYS_ax.set_title(\"USER1: SYS Balance (rebasing token)\", fontsize=20)\n",
    "SYS_ax.set_ylabel(\"Token balance (SYS)\", fontsize=16)\n",
    "SYS_ax.set_xlabel('Time', fontsize=16)\n",
    "SYS_ax.legend()\n",
    "\n",
    "DAI_states1 = tDAI.get_state_series(DAI_addr1)\n",
    "principle = DAI_states1.get_principle() \n",
    "balance = DAI_states1.get_balance() \n",
    "tSamp = DAI_states1.get_tstamp() \n",
    "\n",
    "DAI_ax.plot(tSamp[1:], balance[1:], label='balance') \n",
    "DAI_ax.plot(tSamp[1:], principle[1:], label='principle') \n",
    "DAI_ax.set_title(\"USER1: DAI Balance (rebasing token)\", fontsize=20)\n",
    "DAI_ax.set_ylabel(\"Token balance (SYS)\", fontsize=16)\n",
    "DAI_ax.set_xlabel('Time', fontsize=16)\n",
    "DAI_ax.legend()\n",
    "\n",
    "SYS_DAI_states1 = tSYS_DAI.get_state_series(SYS_DAI_addr1)\n",
    "principle = SYS_DAI_states1.get_principle() \n",
    "balance = SYS_DAI_states1.get_balance() \n",
    "tSamp = SYS_DAI_states1.get_tstamp() \n",
    "\n",
    "principle1 = principle\n",
    "tSamp1 = tSamp\n",
    "\n",
    "SYS_DAI_ax.plot(tSamp[1:], balance[1:], label='balance') \n",
    "SYS_DAI_ax.plot(tSamp[1:], principle[1:], label='principle') \n",
    "SYS_DAI_ax.set_title(\"USER1: SYS_DAI_LP Balance (rebasing token)\", fontsize=20)\n",
    "SYS_DAI_ax.set_ylabel(\"Token balance\", fontsize=16)\n",
    "SYS_DAI_ax.set_xlabel('Time', fontsize=16)\n",
    "SYS_DAI_ax.legend()"
   ]
  }
 ],
 "metadata": {
  "kernelspec": {
   "display_name": "Python 3 (ipykernel)",
   "language": "python",
   "name": "python3"
  },
  "language_info": {
   "codemirror_mode": {
    "name": "ipython",
    "version": 3
   },
   "file_extension": ".py",
   "mimetype": "text/x-python",
   "name": "python",
   "nbconvert_exporter": "python",
   "pygments_lexer": "ipython3",
   "version": "3.9.7"
  }
 },
 "nbformat": 4,
 "nbformat_minor": 5
}
