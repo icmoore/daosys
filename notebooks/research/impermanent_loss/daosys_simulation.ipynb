{
 "cells": [
  {
   "cell_type": "markdown",
   "id": "5f5b4224-655e-4a81-b918-715b4c9c623e",
   "metadata": {},
   "source": [
    "### Simulation: Masternode Yield Farming"
   ]
  },
  {
   "cell_type": "code",
   "execution_count": 1,
   "id": "2f8e2b86-aaca-4f8f-b4ad-f8d5fb9e60c2",
   "metadata": {},
   "outputs": [],
   "source": [
    "import os\n",
    "import copy\n",
    "import numpy as np\n",
    "import pandas as pd\n",
    "import time\n",
    "import matplotlib.pyplot as plt\n",
    "from IPython.display import Image\n",
    "cwd =  os.getcwd().replace(\"notebooks/research/impermanent_loss\",\"\")\n",
    "os.chdir(cwd)\n",
    "\n",
    "from python.dev.helper import Helper\n",
    "\n",
    "from python.dev.simulation import SimulationOrchestrator\n",
    "from python.dev.simulation import EventQueue\n",
    "from python.dev.simulation import EventExecutor\n",
    "from python.dev.simulation.batch import ActionBatch\n",
    "from python.dev.simulation.batch import MergeBatch\n",
    "\n",
    "from python.dev.agent import TokenAgent\n",
    "from python.dev.agent import LPTokenAgent\n",
    "from python.dev.agent import UserAgent\n",
    "\n",
    "from python.dev.action import MintAction\n",
    "from python.dev.action import DepositAction\n",
    "from python.dev.action import LPDepositChainAction\n",
    "from python.dev.action import DepositChainAction\n",
    "from python.dev.action import WithdrawChainAction\n",
    "from python.dev.action import WithdrawAction\n",
    "from python.dev.action import SwapAction\n",
    "from python.dev.event import Mint\n",
    "from python.dev.event import Deposit\n",
    "from python.dev.event import Withdraw\n",
    "from python.dev.event import Swap\n",
    "\n",
    "from python.dev.math.model import BrownianModel\n",
    "from python.dev.math.model import TokenDeltaModel\n",
    "from python.dev.math.model import TimeDeltaModel\n",
    "from python.dev.math.model import ModelQueue\n",
    "\n",
    "from python.dev.lp import LiquidityPool\n",
    "from python.dev.lp.event import LPEvent\n",
    "from python.dev.lp.event import MintLPEvent\n",
    "from python.dev.lp.event import DepositLPEvent\n",
    "from python.dev.lp.event import SwapLPEvent"
   ]
  },
  {
   "cell_type": "code",
   "execution_count": 2,
   "id": "e5d09104-845b-4e19-9026-0affbeb4c801",
   "metadata": {},
   "outputs": [],
   "source": [
    "from python.dev.cpt import Liquidity\n",
    "import scipy.special as sps \n",
    "\n",
    "class SimulateLiquidity():\n",
    "    \n",
    "    def __init__(self, x_real, y_real, x_name, y_name, max_trade = 1000):       \n",
    "        self.liq_obj = Liquidity(x_real, y_real, x_name, y_name)\n",
    "        self.max_trade = max_trade\n",
    "        self.shape = None\n",
    "        self.scale = None\n",
    "\n",
    "    def get_max_trade(self):\n",
    "        return self.max_trade       \n",
    "        \n",
    "    def get_liquidity_obj(self):\n",
    "        return self.liq_obj\n",
    "        \n",
    "    def set_params(self):\n",
    "        self.shape, self.scale = 1, self.max_trade/5    \n",
    "        \n",
    "    def gen_delta_y(self):    \n",
    "        self.set_params()\n",
    "        return np.random.gamma(self.shape, self.scale)\n",
    "    \n",
    "    def gen_new_position(self, p):\n",
    "        delta_y = self.gen_delta_y()\n",
    "        delta_x = (self.liq_obj.get_y_real() + delta_y)/p - self.liq_obj.get_x_real()\n",
    "        self.liq_obj.add_delta_y(delta_y)\n",
    "        self.liq_obj.add_delta_x(delta_x)   \n",
    "        \n",
    "    def apply(self, p_arr):\n",
    "        delta_x_arr = np.array([])\n",
    "        delta_y_arr = np.array([])\n",
    "        for p in p_arr: \n",
    "            self.gen_new_position(p)\n",
    "            delta_x_arr = np.append(delta_x_arr,self.liq_obj.get_x_delta()) \n",
    "            delta_y_arr = np.append(delta_y_arr,self.liq_obj.get_y_delta()) \n",
    "            \n",
    "        return delta_x_arr, delta_y_arr    "
   ]
  },
  {
   "cell_type": "code",
   "execution_count": 3,
   "id": "bfa362c2-4d01-49d1-a1e6-971da2a47efe",
   "metadata": {},
   "outputs": [],
   "source": [
    "def gen_xy_value(p, x_mu_deposit, sigma=1):\n",
    "    y_mu_deposit = p*x_mu_deposit\n",
    "    #x_deposit_value = np.random.normal(x_mu_deposit, sigma)\n",
    "    #y_withdraw_value = np.random.normal(y_mu_deposit, sigma)\n",
    "    x_deposit_value = x_mu_deposit\n",
    "    y_withdraw_value = y_mu_deposit    \n",
    "    xy_values = np.array((x_deposit_value, y_withdraw_value))\n",
    "    return xy_values\n",
    "\n",
    "\n",
    "def gen_xy_arr(p_arr, x_mu_deposit=1, sigma=1):\n",
    "    xy_vals_arr = np.array([])\n",
    "    for p in p_arr:\n",
    "        xy_vals = gen_xy_value(p, x_mu_deposit, sigma)\n",
    "        if len(xy_vals_arr) == 0:\n",
    "            xy_vals_arr = np.array(xy_vals) \n",
    "        else:\n",
    "            xy_vals_arr = np.vstack((xy_vals_arr,xy_vals))\n",
    "            \n",
    "    return xy_vals_arr"
   ]
  },
  {
   "cell_type": "markdown",
   "id": "3aab447f-26a9-4898-a04c-cf99a6141c0b",
   "metadata": {},
   "source": [
    "### Initialize Agents"
   ]
  },
  {
   "cell_type": "code",
   "execution_count": 4,
   "id": "ed4d1a6d-d638-4939-a5fc-1234f9e0453d",
   "metadata": {},
   "outputs": [],
   "source": [
    "USER1 = UserAgent('USER1')\n",
    "SYS = TokenAgent('SYS')\n",
    "DAI = TokenAgent('DAI')\n",
    "SYS_DAI_LP = LiquidityPool('SYS/DAI', USER1, SYS, DAI)\n",
    "SYS_DAI = LPTokenAgent('SYS_DAI_LP', SYS_DAI_LP)"
   ]
  },
  {
   "cell_type": "markdown",
   "id": "db4de42f-cfce-4221-8bb1-e83ab284d4fa",
   "metadata": {},
   "source": [
    "### Mint Tokens"
   ]
  },
  {
   "cell_type": "code",
   "execution_count": 5,
   "id": "fb378031-440b-4c1a-8dde-3bb26646af5e",
   "metadata": {},
   "outputs": [],
   "source": [
    "apy = 0.1\n",
    "t_delta = 109*24*3600\n",
    "N_RUNS = 5*365"
   ]
  },
  {
   "cell_type": "code",
   "execution_count": 6,
   "id": "553291de-2411-42cf-95ed-b251a116f019",
   "metadata": {},
   "outputs": [],
   "source": [
    "SYS_mint1 = Mint(5000000, apy, True)\n",
    "DAI_mint1 = Mint(1000000, apy, True)\n",
    "SYS_DAI_LP_mint1 = Mint(0, apy, True)\n",
    "\n",
    "m_action1 = MintAction(SYS_mint1, SYS, USER1)\n",
    "m_action2 = MintAction(DAI_mint1, DAI, USER1)\n",
    "m_action3 = MintAction(SYS_DAI_LP_mint1, SYS_DAI, USER1)"
   ]
  },
  {
   "cell_type": "code",
   "execution_count": 7,
   "id": "38c9325f-bc95-4eed-8397-9f8f8808388c",
   "metadata": {},
   "outputs": [],
   "source": [
    "sBatch = ActionBatch('SETUP1')\n",
    "sBatch.init_action(m_action1)\n",
    "sBatch.init_action(m_action2)\n",
    "sBatch.init_action(m_action3)\n",
    "\n",
    "setup_batch = sBatch.generate()"
   ]
  },
  {
   "cell_type": "code",
   "execution_count": 8,
   "id": "735a9ddf-cbab-4105-ab62-23ba2ff1c1a7",
   "metadata": {},
   "outputs": [
    {
     "name": "stdout",
     "output_type": "stream",
     "text": [
      "** SETUP1 INIT BATCH **\n",
      "USER1 MINTs 5000000.00 SYS \n",
      "USER1 MINTs 1000000.00 DAI \n",
      "USER1 MINTs 0.00 SYS_DAI_LP \n"
     ]
    }
   ],
   "source": [
    "sBatch.inspect()"
   ]
  },
  {
   "cell_type": "markdown",
   "id": "04946423-49d1-4594-a0d6-e689747219a4",
   "metadata": {},
   "source": [
    "### Setup Actions"
   ]
  },
  {
   "cell_type": "markdown",
   "id": "633c8ecb-376f-488e-bbe5-0529080ee62d",
   "metadata": {},
   "source": [
    "### Batchset 2"
   ]
  },
  {
   "cell_type": "code",
   "execution_count": 9,
   "id": "a7bb29e4-abe1-47ef-89ea-fb13fa52f5cc",
   "metadata": {},
   "outputs": [],
   "source": [
    "t_delta_model = TimeDeltaModel().apply(p = 0.00001, n = N_RUNS)\n",
    "t_delta_obj3 = ModelQueue().apply(t_delta_model)\n",
    "t_delta_obj4 = ModelQueue().apply(t_delta_model)"
   ]
  },
  {
   "cell_type": "code",
   "execution_count": 10,
   "id": "41a8d520-45da-4266-94ea-9ced180fd775",
   "metadata": {},
   "outputs": [],
   "source": [
    "N_RUNS = 1825"
   ]
  },
  {
   "cell_type": "code",
   "execution_count": 11,
   "id": "a1946689-4dc8-450b-a32c-197ffbdc326d",
   "metadata": {},
   "outputs": [],
   "source": [
    "b = BrownianModel(0.2)\n",
    "p_arr = b.gen_gbm(0.1, 1, N_RUNS, 1)\n",
    "xy_arr = gen_xy_arr(p_arr, 100, 10)\n",
    "\n",
    "sim_liq = SimulateLiquidity(1000, 200, 'SYS','DIA')\n",
    "x_delta, y_delta = sim_liq.apply(p_arr)\n",
    "\n",
    "r_deposit_model = np.random.normal(100, 10, N_RUNS)\n",
    "r_withdraw_model = np.random.normal(20, 10, N_RUNS)\n",
    "\n",
    "#r_deposit_model = np.abs(x_delta)\n",
    "#r_withdraw_model = y_delta"
   ]
  },
  {
   "cell_type": "code",
   "execution_count": 12,
   "id": "29be0ce6-53a3-4ea6-80d1-0ddf27709862",
   "metadata": {},
   "outputs": [],
   "source": [
    "#r_deposit_model = x_delta[:10]\n",
    "#r_withdraw_model = y_delta[:10]"
   ]
  },
  {
   "cell_type": "code",
   "execution_count": 13,
   "id": "22b8a84a-0348-464d-bb2f-c0d1f8284d12",
   "metadata": {},
   "outputs": [],
   "source": [
    "r_withdraw_obj1 = ModelQueue().apply(r_deposit_model)\n",
    "r_withdraw_obj2 = ModelQueue().apply(r_deposit_model)"
   ]
  },
  {
   "cell_type": "code",
   "execution_count": 14,
   "id": "8fa72da9-1fab-46b7-b0ff-10319afabf12",
   "metadata": {},
   "outputs": [],
   "source": [
    "#deposit_event1 = Deposit(apy, r_deposit_obj1, t_delta_obj3) \n",
    "#deposit_event2 = Deposit(apy, r_deposit_obj2, t_delta_obj4) \n",
    "\n",
    "withdraw_event1 = Withdraw(apy, r_withdraw_obj1, t_delta_obj3) \n",
    "withdraw_event2 = Withdraw(apy, r_withdraw_obj2, t_delta_obj4) "
   ]
  },
  {
   "cell_type": "code",
   "execution_count": 15,
   "id": "1ff28577-97d9-4894-8b31-66683a70e2fe",
   "metadata": {},
   "outputs": [],
   "source": [
    "# Deposit SYS\n",
    "#d_action1 = DepositAction(deposit_event1, SYS, USER1, SYS_mint1.get_id())\n",
    "#d_action2 = DepositAction(deposit_event2, DAI, USER1, DAI_mint1.get_id())\n",
    "\n",
    "w_action1 = WithdrawAction(withdraw_event1, SYS, USER1, SYS_mint1.get_id())\n",
    "w_action2 = WithdrawAction(withdraw_event2, DAI, USER1, DAI_mint1.get_id())\n",
    "\n",
    "d_action3 = LPDepositChainAction(w_action1, w_action2, SYS_DAI, USER1, SYS_DAI_LP_mint1.get_id())\n",
    "\n"
   ]
  },
  {
   "cell_type": "code",
   "execution_count": 16,
   "id": "7593998c-cb1c-4c25-bb31-4debad06f75c",
   "metadata": {},
   "outputs": [],
   "source": [
    "aBatch = ActionBatch('RUN1', N_RUNS)\n",
    "aBatch.add_action(w_action1)\n",
    "aBatch.add_action(w_action2)\n",
    "aBatch.add_action(d_action3)\n",
    "action_batch = aBatch.generate()"
   ]
  },
  {
   "cell_type": "code",
   "execution_count": 17,
   "id": "f209533e-6803-40de-8e75-2f33e36941ec",
   "metadata": {},
   "outputs": [],
   "source": [
    "#aBatch.inspect()\n"
   ]
  },
  {
   "cell_type": "markdown",
   "id": "f2c7167a-409d-45e1-8f62-e09111497081",
   "metadata": {},
   "source": [
    "### Setup event queue"
   ]
  },
  {
   "cell_type": "code",
   "execution_count": 18,
   "id": "189785f8-f6d3-49ba-89e8-3dd14a1db0f3",
   "metadata": {},
   "outputs": [],
   "source": [
    "q = EventQueue()\n",
    "q.add_setup_batch(setup_batch)\n",
    "q.add_action_batch(action_batch)\n",
    "q.freeze()"
   ]
  },
  {
   "cell_type": "markdown",
   "id": "85c30e52-48b2-4737-be8f-823ae33a2862",
   "metadata": {},
   "source": [
    "### Execute events"
   ]
  },
  {
   "cell_type": "code",
   "execution_count": 19,
   "id": "40428bc0-0452-45ca-ad48-cf70f2ac8d74",
   "metadata": {},
   "outputs": [],
   "source": [
    "all_batches = q.get_all_batches()\n",
    "\n",
    "orchestrator = SimulationOrchestrator(verbose = False)\n",
    "executor = EventExecutor(q, orchestrator)\n",
    "executor.run()"
   ]
  },
  {
   "cell_type": "code",
   "execution_count": 20,
   "id": "33e61ac4-fac9-468d-84c4-34ebd2b5ac0d",
   "metadata": {},
   "outputs": [],
   "source": [
    "#orchestrator.print_logs()"
   ]
  },
  {
   "cell_type": "markdown",
   "id": "c7a99fa1-34de-48db-8324-d9f5b4cac435",
   "metadata": {},
   "source": [
    "### Analyze"
   ]
  },
  {
   "cell_type": "code",
   "execution_count": 21,
   "id": "f6f4d597-43f5-4199-bff4-f7a4ee75aa20",
   "metadata": {},
   "outputs": [],
   "source": [
    "tSYS = SYS.get_token()\n",
    "tDAI = DAI.get_token()\n",
    "tSYS_DAI = SYS_DAI.get_token()\n",
    "\n",
    "SYS_addr1 = SYS.get_address(SYS_mint1.get_id())\n",
    "DAI_addr1 = DAI.get_address(DAI_mint1.get_id())\n",
    "SYS_DAI_addr1 = SYS_DAI.get_address(SYS_DAI_LP_mint1.get_id())"
   ]
  },
  {
   "cell_type": "code",
   "execution_count": 22,
   "id": "57cb7e7e-878c-4a54-a2b9-35b5cc980bd6",
   "metadata": {},
   "outputs": [
    {
     "data": {
      "text/plain": [
       "<matplotlib.legend.Legend at 0x7f8d01fb8fd0>"
      ]
     },
     "execution_count": 22,
     "metadata": {},
     "output_type": "execute_result"
    },
    {
     "data": {
      "image/png": "[encoded data removed]",
      "text/plain": [
       "<Figure size 1296x1080 with 3 Axes>"
      ]
     },
     "metadata": {
      "needs_background": "light"
     },
     "output_type": "display_data"
    }
   ],
   "source": [
    "SYS_states1 = tSYS.get_state_series(SYS_addr1)\n",
    "principle = SYS_states1.get_principle() \n",
    "balance = SYS_states1.get_balance() \n",
    "tSamp = SYS_states1.get_tstamp()  \n",
    "\n",
    "fig, (SYS_ax, DAI_ax, SYS_DAI_ax) = plt.subplots(nrows=3, sharex=True, sharey=False, figsize=(18, 15))\n",
    "\n",
    "SYS_ax.plot(tSamp[1:], balance[1:], label='balance') \n",
    "SYS_ax.plot(tSamp[1:], principle[1:], label='principle') \n",
    "SYS_ax.set_title(\"USER1: SYS Balance (rebasing token)\", fontsize=20)\n",
    "SYS_ax.set_ylabel(\"Token balance (SYS)\", fontsize=16)\n",
    "SYS_ax.set_xlabel('Time', fontsize=16)\n",
    "SYS_ax.legend()\n",
    "\n",
    "DAI_states1 = tDAI.get_state_series(DAI_addr1)\n",
    "principle = DAI_states1.get_principle() \n",
    "balance = DAI_states1.get_balance() \n",
    "tSamp = DAI_states1.get_tstamp() \n",
    "\n",
    "DAI_ax.plot(tSamp[1:], balance[1:], label='balance') \n",
    "DAI_ax.plot(tSamp[1:], principle[1:], label='principle') \n",
    "DAI_ax.set_title(\"USER1: DAI Balance (rebasing token)\", fontsize=20)\n",
    "DAI_ax.set_ylabel(\"Token balance (SYS)\", fontsize=16)\n",
    "DAI_ax.set_xlabel('Time', fontsize=16)\n",
    "DAI_ax.legend()\n",
    "\n",
    "SYS_DAI_states1 = tSYS_DAI.get_state_series(SYS_DAI_addr1)\n",
    "principle = SYS_DAI_states1.get_principle() \n",
    "balance = SYS_DAI_states1.get_balance() \n",
    "tSamp = SYS_DAI_states1.get_tstamp() \n",
    "\n",
    "principle1 = principle\n",
    "tSamp1 = tSamp\n",
    "\n",
    "SYS_DAI_ax.plot(tSamp[1:], balance[1:], label='balance') \n",
    "SYS_DAI_ax.plot(tSamp[1:], principle[1:], label='principle') \n",
    "SYS_DAI_ax.set_title(\"USER1: SYS_DAI_LP Balance (rebasing token)\", fontsize=20)\n",
    "SYS_DAI_ax.set_ylabel(\"Token balance\", fontsize=16)\n",
    "SYS_DAI_ax.set_xlabel('Time', fontsize=16)\n",
    "SYS_DAI_ax.legend()"
   ]
  },
  {
   "cell_type": "code",
   "execution_count": 23,
   "id": "615dd497-efbc-4bf6-845b-744ea30ae94f",
   "metadata": {},
   "outputs": [
    {
     "data": {
      "image/png": "[encoded data removed]",
      "text/plain": [
       "<Figure size 432x288 with 1 Axes>"
      ]
     },
     "metadata": {
      "needs_background": "light"
     },
     "output_type": "display_data"
    }
   ],
   "source": [
    "import scipy.special as sps \n",
    "max_trade = 1000\n",
    "shape, scale = 1, max_trade/5  \n",
    "s = np.random.gamma(shape, scale, 1000)\n",
    "\n",
    "count, bins, ignored = plt.hist(s, 50, density=True)\n",
    "y = bins**(shape-1)*(np.exp(-bins/scale) /  \n",
    "                     (sps.gamma(shape)*scale**shape))\n",
    "plt.plot(bins, y, linewidth=2, color='r')  \n",
    "plt.title(\"T1 Deposits\", fontsize=14)\n",
    "plt.show()"
   ]
  },
  {
   "cell_type": "code",
   "execution_count": 24,
   "id": "de056a52-9ca4-4185-874f-c5e76cf49697",
   "metadata": {},
   "outputs": [
    {
     "data": {
      "text/plain": [
       "24.48751396676827"
      ]
     },
     "execution_count": 24,
     "metadata": {},
     "output_type": "execute_result"
    }
   ],
   "source": [
    "np.random.gamma(shape, scale)"
   ]
  },
  {
   "cell_type": "code",
   "execution_count": 25,
   "id": "134baa76-6255-4fb3-b3b4-16f0af640a0c",
   "metadata": {},
   "outputs": [],
   "source": [
    "from python.dev.cpt import Liquidity"
   ]
  },
  {
   "cell_type": "code",
   "execution_count": 26,
   "id": "c109464e-c3a3-428c-b191-4aab8d80ae45",
   "metadata": {},
   "outputs": [],
   "source": [
    "liq = Liquidity(100, 20, 'SYS','DIA')"
   ]
  },
  {
   "cell_type": "code",
   "execution_count": 27,
   "id": "8da96b95-c08d-417a-b9ce-cc8703a612d8",
   "metadata": {},
   "outputs": [
    {
     "data": {
      "text/plain": [
       "0.19999999999999998"
      ]
     },
     "execution_count": 27,
     "metadata": {},
     "output_type": "execute_result"
    }
   ],
   "source": [
    "liq.get_price()"
   ]
  },
  {
   "cell_type": "code",
   "execution_count": 28,
   "id": "be66d20d-4a6a-42a7-9283-ac9e2361cf8e",
   "metadata": {},
   "outputs": [
    {
     "data": {
      "text/plain": [
       "20"
      ]
     },
     "execution_count": 28,
     "metadata": {},
     "output_type": "execute_result"
    }
   ],
   "source": [
    "liq.get_y_real()"
   ]
  },
  {
   "cell_type": "code",
   "execution_count": 29,
   "id": "a5d7841a-710b-4543-938b-0b5a8b49b261",
   "metadata": {},
   "outputs": [
    {
     "data": {
      "text/plain": [
       "100"
      ]
     },
     "execution_count": 29,
     "metadata": {},
     "output_type": "execute_result"
    }
   ],
   "source": [
    "liq.get_x_real()"
   ]
  },
  {
   "cell_type": "code",
   "execution_count": 30,
   "id": "94772679-5165-4006-bcc8-b9d4c8529eba",
   "metadata": {},
   "outputs": [
    {
     "data": {
      "text/plain": [
       "18.928766906818"
      ]
     },
     "execution_count": 30,
     "metadata": {},
     "output_type": "execute_result"
    }
   ],
   "source": [
    "p_arr[1]*liq.get_x_real()"
   ]
  },
  {
   "cell_type": "code",
   "execution_count": 31,
   "id": "6c6086ec-bfba-4ac2-b96b-d56891a11e88",
   "metadata": {},
   "outputs": [
    {
     "data": {
      "text/plain": [
       "array([0.2       , 0.18928767, 0.18752301, 0.18518596, 0.19172924])"
      ]
     },
     "execution_count": 31,
     "metadata": {},
     "output_type": "execute_result"
    }
   ],
   "source": [
    "p_arr[0:5]"
   ]
  },
  {
   "cell_type": "code",
   "execution_count": 32,
   "id": "4d585474-d358-47f6-8a1e-f1a4ced2f76a",
   "metadata": {},
   "outputs": [],
   "source": [
    "class SimulateLiquidity():\n",
    "    \n",
    "    def __init__(self, x_real, y_real, x_name, y_name, max_trade = 1000):       \n",
    "        self.liq_obj = Liquidity(x_real, y_real, x_name, y_name)\n",
    "        self.max_trade = max_trade\n",
    "        self.real_x_arr = np.array([])\n",
    "        self.real_y_arr = np.array([])        \n",
    "        self.shape = None\n",
    "        self.scale = None\n",
    "\n",
    "    def get_max_trade(self):\n",
    "        return self.max_trade       \n",
    "        \n",
    "    def get_liquidity_obj(self):\n",
    "        return self.liq_obj\n",
    "    \n",
    "    def get_real_x(self):\n",
    "        return self.real_x_arr\n",
    "    \n",
    "    def get_real_y(self):\n",
    "        return self.real_y_arr    \n",
    "        \n",
    "    def set_params(self):\n",
    "        self.shape, self.scale = 1, self.max_trade/5    \n",
    " \n",
    "    def gen_delta_x(self, p):    \n",
    "        self.set_params()\n",
    "        return np.random.gamma(self.shape, self.scale)/p\n",
    "\n",
    "    def gen_delta_y(self):    \n",
    "        self.set_params()\n",
    "        return np.random.gamma(self.shape, self.scale)\n",
    "    \n",
    "    def gen_new_position(self, p):\n",
    "        delta_y = self.gen_delta_y()\n",
    "        delta_x = (self.liq_obj.get_y_real() + delta_y)/p - self.liq_obj.get_x_real()\n",
    "        self.liq_obj.add_delta_y(delta_y)\n",
    "        self.liq_obj.add_delta_x(delta_x)   \n",
    "        \n",
    "    def apply(self, p_arr):\n",
    "        delta_x_arr = np.array([])\n",
    "        delta_y_arr = np.array([])\n",
    "        for p in p_arr: \n",
    "            self.gen_new_position(p)\n",
    "            delta_x_arr = np.append(delta_x_arr,self.liq_obj.get_x_delta()) \n",
    "            delta_y_arr = np.append(delta_y_arr,self.liq_obj.get_y_delta()) \n",
    "            self.real_x_arr = np.append(self.real_x_arr,self.liq_obj.get_x_real()) \n",
    "            self.real_y_arr = np.append(self.real_y_arr,self.liq_obj.get_y_real()) \n",
    "            \n",
    "        return delta_x_arr, delta_y_arr    "
   ]
  },
  {
   "cell_type": "code",
   "execution_count": 33,
   "id": "3c52d759-784c-460a-8344-a5bc81191392",
   "metadata": {},
   "outputs": [
    {
     "data": {
      "text/plain": [
       "0.23723771124569337"
      ]
     },
     "execution_count": 33,
     "metadata": {},
     "output_type": "execute_result"
    }
   ],
   "source": [
    "b = BrownianModel(0.2)\n",
    "p_arr = b.gen_gbm(0.1, 1, N_RUNS, 1)\n",
    "\n",
    "sim_liq = SimulateLiquidity(1000, 200, 'SYS','DIA')\n",
    "x_delta, y_delta = sim_liq.apply(p_arr)\n",
    "\n",
    "liq = sim_liq.get_liquidity_obj()\n",
    "liq.get_price()"
   ]
  },
  {
   "cell_type": "code",
   "execution_count": 34,
   "id": "17afe218-e91a-4f48-963e-4e358fb6db60",
   "metadata": {},
   "outputs": [
    {
     "data": {
      "text/plain": [
       "0.04968858153350089"
      ]
     },
     "execution_count": 34,
     "metadata": {},
     "output_type": "execute_result"
    }
   ],
   "source": [
    "(p_arr[1]-p_arr[0])/p_arr[0]"
   ]
  },
  {
   "cell_type": "code",
   "execution_count": 35,
   "id": "74750f3f-8491-4d59-a564-f9c803fa1ef4",
   "metadata": {},
   "outputs": [],
   "source": [
    "def calc_delta_y(x,y,dx,dp):\n",
    "    return (dp*x**2 + dp*dx*x + dx*y)/x\n",
    "\n",
    "def calc_delta_x(x,y,dy,dp):\n",
    "    return (dy*x-dp*x**2)/(dp*x+y)"
   ]
  },
  {
   "cell_type": "code",
   "execution_count": 36,
   "id": "2e67cead-1fb3-4af9-9a4b-8e4a67cae33e",
   "metadata": {},
   "outputs": [],
   "source": [
    "from scipy.optimize import fsolve"
   ]
  },
  {
   "cell_type": "code",
   "execution_count": 80,
   "id": "dafc515e-9cfa-42aa-939e-1490ea1abd77",
   "metadata": {},
   "outputs": [],
   "source": [
    "p = 0.2\n",
    "x = 10000; dx = -36.4955\n",
    "y = 2000; dy = 20\n",
    "dp = 0.20273991-0.2\n",
    "\n",
    "class SolveDeltas():\n",
    "    \n",
    "    def __init__(self, x, y, prev_p):\n",
    "        self.x = x\n",
    "        self.y = y\n",
    "        self.prev_p = prev_p\n",
    "        self.dx = None\n",
    "        self.dy = None\n",
    "        self.dp = None\n",
    "        self.p = None\n",
    "        self.dp_arr = np.array([])\n",
    "        self.dx_arr = np.array([])\n",
    "        self.dy_arr = np.array([])\n",
    "        self.x_arr = np.array([x])\n",
    "        self.y_arr = np.array([y])\n",
    "        \n",
    "    def apply(self, p):\n",
    "        \n",
    "        self.dx, self.dy = self.calc_dx_dy(p)\n",
    "        self.check(p)\n",
    "        self.x = self.x + self.dx\n",
    "        self.y = self.y + self.dy\n",
    "        self.prev_p = p\n",
    "        self.update(p)\n",
    "    \n",
    "    def check(self,p):\n",
    "        prev_price = self.prev_p\n",
    "        dp = self.calc_dp(self.dx, self.dy)\n",
    "        new_price = self.prev_p+dp\n",
    "        self.dp_arr = np.append(self.dp_arr,dp)\n",
    "        #print('prev: {:.5f} calc: {:.5f} '.format(prev_price, new_price))\n",
    "        \n",
    "    def update(self, p):  \n",
    "        self.x_arr = np.append(self.x_arr,self.x)\n",
    "        self.y_arr = np.append(self.y_arr,self.y)\n",
    "        self.dx_arr = np.append(self.dx_arr,self.dx)\n",
    "        self.dy_arr = np.append(self.dy_arr,self.dy)\n",
    "        \n",
    "    def get_dx(self):\n",
    "        return self.dx\n",
    "    \n",
    "    def get_dy(self):\n",
    "        return self.dy    \n",
    "    \n",
    "    def get_y(self):\n",
    "        return self.y     \n",
    "    \n",
    "    def get_x(self):\n",
    "        return self.x   \n",
    "    \n",
    "    def get_dx_arr(self):\n",
    "        return self.dx_arr\n",
    "    \n",
    "    def get_dy_arr(self):\n",
    "        return self.dy_arr    \n",
    "    \n",
    "    def get_y_arr(self):\n",
    "        return self.y_arr     \n",
    "    \n",
    "    def get_x_arr(self):\n",
    "        return self.x_arr \n",
    "    \n",
    "    def get_dp_arr(self):\n",
    "        return self.dp_arr    \n",
    "            \n",
    "        \n",
    "    def func_swap_yx(self, z):\n",
    "        return [(self.x*abs(z[1]) + abs(z[0])*self.y)/(self.x**2 - abs(z[0])*self.x) - self.dp,\n",
    "                abs(z[1])/abs(z[0]) - self.p]\n",
    "\n",
    "    def func_swap_xy(self, z):\n",
    "        return [-(self.x*abs(z[1]) + abs(z[0])*self.y)/(self.x**2 + abs(z[0])*self.x) - self.dp,\n",
    "                abs(z[1])/abs(z[0]) - self.p]\n",
    "\n",
    "    def calc_dx_dy(self, p):\n",
    "        self.p = p\n",
    "        self.dp = self.p - self.prev_p\n",
    "        if(self.dp >= 0):\n",
    "            dx, dy = fsolve(self.func_swap_yx, [1, 1])\n",
    "            return -dx, dy\n",
    "        else:\n",
    "            dx, dy = fsolve(self.func_swap_xy, [1, 1])\n",
    "            return dx, -dy \n",
    "\n",
    "    def calc_dp(self, dx, dy):\n",
    "        return (self.x*dy - dx*self.y)/(self.x**2 +dx*self.x)    \n",
    "           "
   ]
  },
  {
   "cell_type": "code",
   "execution_count": 83,
   "id": "812c7151-0558-4499-8d0e-0886f6ff6da4",
   "metadata": {},
   "outputs": [],
   "source": [
    "dDel = SolveDeltas(10000,2000,0.2)\n",
    "\n",
    "for p in p_arr:\n",
    "    dDel.apply(p)"
   ]
  },
  {
   "cell_type": "code",
   "execution_count": 84,
   "id": "e2da4932-9d4a-4ae5-a9a2-6377a8e4726b",
   "metadata": {},
   "outputs": [],
   "source": [
    "dai_arr = dDel.get_y_arr()\n",
    "sys_arr = dDel.get_x_arr()\n",
    "\n",
    "dDai_arr = dDel.get_dy_arr()\n",
    "dSys_arr = dDel.get_dx_arr()\n",
    "\n",
    "p_calc_arr = abs(dDai_arr/dSys_arr)"
   ]
  },
  {
   "cell_type": "code",
   "execution_count": 85,
   "id": "f6c60a72-4f11-4bf9-92fd-06e6eba768c8",
   "metadata": {},
   "outputs": [
    {
     "data": {
      "text/plain": [
       "<matplotlib.legend.Legend at 0x7f8d02ecb1c0>"
      ]
     },
     "execution_count": 85,
     "metadata": {},
     "output_type": "execute_result"
    },
    {
     "data": {
      "image/png": "[encoded data removed]",
      "text/plain": [
       "<Figure size 1296x720 with 2 Axes>"
      ]
     },
     "metadata": {
      "needs_background": "light"
     },
     "output_type": "display_data"
    }
   ],
   "source": [
    "fig, (SYS_DAI_ax, price_ax) = plt.subplots(nrows=2, sharex=False, sharey=False, figsize=(18, 10))\n",
    "SYS_DAI_ax.plot(sys_arr, label='sys') \n",
    "SYS_DAI_ax.plot(dai_arr, color = 'r', label='dai') \n",
    "SYS_DAI_ax.set_title(\"USER1: SYS_DAI_LP Prices (rebasing token)\", fontsize=20)\n",
    "SYS_DAI_ax.set_ylabel(\"SYS / DIA\", fontsize=16)\n",
    "SYS_DAI_ax.set_xlabel('Time', fontsize=16)\n",
    "SYS_DAI_ax.legend()\n",
    "\n",
    "price_ax.plot(p_arr[0:100], label='price orig') \n",
    "price_ax.plot(p_calc_arr[0:100], label='price calc') \n",
    "price_ax.set_title(\"USER1: SYS_DAI_LP Prices (rebasing token)\", fontsize=20)\n",
    "price_ax.set_ylabel(\"SYS / DIA\", fontsize=16)\n",
    "price_ax.set_xlabel('Time', fontsize=16)\n",
    "price_ax.legend()"
   ]
  },
  {
   "cell_type": "markdown",
   "id": "922d2546-f40d-48ab-b293-1d6b930ae591",
   "metadata": {},
   "source": [
    "* https://stackoverflow.com/questions/30378861/scipy-non-linear-equations-system-with-linear-constraints-beginner"
   ]
  },
  {
   "cell_type": "code",
   "execution_count": null,
   "id": "bad6c5c8-e8a9-4955-94a1-dd7096df3343",
   "metadata": {},
   "outputs": [],
   "source": [
    "def gen_delta_y(max_trade = 10):    \n",
    "    shape, scale = 1, max_trade/5 \n",
    "    return np.random.gamma(shape, scale)\n",
    "    #return 100\n",
    "\n",
    "def gen_delta_x(p, max_trade = 10):    \n",
    "    shape, scale = 1, max_trade/5 \n",
    "    return np.random.gamma(shape, scale)/p\n",
    "    #return 100/p\n",
    "    \n",
    "def per_chg(p_arr, k):\n",
    "    return (p_arr[k]-p_arr[k-1])/p_arr[k-1]\n",
    "\n",
    "\n",
    "\n",
    "print(p_arr[0:5])\n",
    "\n",
    "liq_obj = Liquidity(10000, 2000, 'SYS','DIA')\n",
    "x_arr = np.array([])\n",
    "y_arr = np.array([])\n",
    "x_delta_arr = np.array([])\n",
    "y_delta_arr = np.array([])\n",
    "\n",
    "for k in range(1,len(p_arr)):\n",
    "    p = p_arr[k]\n",
    "    inc = increase_y[k-1]\n",
    "    x = liq_obj.get_x_real()\n",
    "    y = liq_obj.get_y_real()\n",
    "    dp = dp_arr[k-1]\n",
    "    if(increase_y[k-1]):\n",
    "        #delta_y = gen_delta_y()\n",
    "        #delta_x = (liq_obj.get_y_real() + delta_y)/p - liq_obj.get_x_real()\n",
    "        dy = 0.01*y\n",
    "        dx = calc_delta_x(x,y,dy,dp)      \n",
    "    else:    \n",
    "        #delta_x = gen_delta_x(p)\n",
    "        #delta_y = p*delta_x + p*liq_obj.get_x_real() - liq_obj.get_y_real() \n",
    "        dx = 0.01*x\n",
    "        dy = calc_delta_y(x,y,dx,dp)\n",
    "    \n",
    "    liq_obj.add_delta_y(dy)\n",
    "    liq_obj.add_delta_x(dx)  \n",
    "    x_real = liq_obj.get_x_real()\n",
    "    y_real = liq_obj.get_y_real()\n",
    "    \n",
    "    x_arr = np.append(x_arr, x_real)\n",
    "    y_arr = np.append(y_arr, y_real)\n",
    "    x_delta_arr = np.append(x_delta_arr, dx)\n",
    "    y_delta_arr = np.append(y_delta_arr, dy)    \n",
    "\n",
    "    print('[inc y: {}],   \\u0394y {:.2f}, \\u0394x {:.2f}'.format(inc, dy, dx))\n",
    "    print('[p:     {:.4f}]   y {:.2f},  x {:.2f}\\n'.format(y_real/x_real, y_real, x_real))\n",
    "    \n"
   ]
  },
  {
   "cell_type": "code",
   "execution_count": null,
   "id": "1ff35a3d-5e2a-4466-86b7-dbee0042f083",
   "metadata": {},
   "outputs": [],
   "source": [
    "x_real = sim_liq.get_real_x()\n",
    "y_real = sim_liq.get_real_y()\n",
    "\n",
    "fig, (p_ax, liq_ax, d_ax) = plt.subplots(nrows=3, sharex=False, sharey=False, figsize=(18, 15))\n",
    "\n",
    "p_ax.plot(p_arr, label='SYS/DAI') \n",
    "p_ax.set_title(\"Price\", fontsize=20)\n",
    "p_ax.set_xlabel('Time', fontsize=16)\n",
    "p_ax.legend()\n",
    "\n",
    "liq_ax.plot(x_arr, label='SYS') \n",
    "liq_ax.plot(y_arr, label='DIA') \n",
    "liq_ax.set_title(\"Token balances\", fontsize=20)\n",
    "liq_ax.set_xlabel('Time', fontsize=16)\n",
    "liq_ax.legend()\n",
    "\n",
    "d_ax.plot(x_delta_arr, label='SYS_delta') \n",
    "d_ax.plot(y_delta_arr, label='DIA_delta') \n",
    "d_ax.set_title(\"Price\", fontsize=20)\n",
    "d_ax.set_xlabel('Time', fontsize=16)\n",
    "d_ax.legend()"
   ]
  },
  {
   "cell_type": "code",
   "execution_count": null,
   "id": "bc36738c-4d12-4d98-9b36-6ccb3b855dc8",
   "metadata": {},
   "outputs": [],
   "source": [
    "import pandas as pd\n",
    "import numpy as np\n",
    "from datetime import datetime\n",
    "from sklearn.neighbors import KernelDensity\n",
    "\n",
    "class KDE():\n",
    "    \n",
    "    def __init__(self, kernel='gaussian'):\n",
    "        self.__kernel = kernel\n",
    "        self.__kde = None\n",
    "        self.__samp = None\n",
    "\n",
    "    def fit(self, y_arr, bw=0.01):\n",
    "        self.__samp = y_arr\n",
    "        self.__kde = KernelDensity(bandwidth=bw, kernel = self.__kernel)\n",
    "        self.__kde.fit(self.__samp.reshape([-1,1]))           \n",
    "        \n",
    "    def sample(self, N):\n",
    "        eval_pnts = np.linspace(np.min(self.__samp), np.max(self.__samp))\n",
    "        return eval_pnts, self.__kde.sample(N)  \n",
    "    \n",
    "    def get_pdf_est(self):\n",
    "        eval_pnts = np.linspace(np.min(self.__samp), np.max(self.__samp))\n",
    "        return np.exp(self.__kde.score_samples(eval_pnts.reshape(-1,1)))    \n",
    "        \n",
    "    def get_kde(self):\n",
    "        return self.__kde"
   ]
  },
  {
   "cell_type": "code",
   "execution_count": null,
   "id": "dbecb5ad-ebcf-4ec7-b367-ff4283e599ea",
   "metadata": {},
   "outputs": [],
   "source": [
    "kde_x = KDE()\n",
    "xfit = kde_x.fit(x_delta_arr, bw=40)\n",
    "\n",
    "kde_y = KDE()\n",
    "yfit = kde_y.fit(y_delta_arr, bw=40)\n",
    "\n",
    "y_kde_est = kde_y.get_pdf_est()\n",
    "y_pnts, y_kde_samp = kde_y.sample(1000)\n",
    "\n",
    "x_kde_est = kde_x.get_pdf_est()\n",
    "x_pnts, x_kde_samp = kde_x.sample(1000)\n",
    "\n",
    "fig, (ax1, ax2) = plt.subplots(ncols=1, nrows=2, figsize=(15, 10))\n",
    "ax1.plot(y_pnts, y_kde_est, c='g')\n",
    "ax1.hist(y_kde_samp, bins=100, density=True, color='r', alpha=0.7)\n",
    "\n",
    "ax2.plot(x_pnts, x_kde_est, c='g')\n",
    "ax2.hist(x_kde_samp, bins=100, density=True, color='r', alpha=0.7)\n",
    "\n",
    "plt.show()"
   ]
  },
  {
   "cell_type": "code",
   "execution_count": null,
   "id": "bf7a4b3e-ea88-49af-a4d3-0acda7cc0215",
   "metadata": {},
   "outputs": [],
   "source": [
    "x = np.array([])\n",
    "x = np.append(x,1)\n",
    "x"
   ]
  },
  {
   "cell_type": "code",
   "execution_count": 56,
   "id": "777b2809-ce0e-4578-8036-eb2fb7ab08e6",
   "metadata": {},
   "outputs": [
    {
     "data": {
      "text/plain": [
       "0.2"
      ]
     },
     "execution_count": 56,
     "metadata": {},
     "output_type": "execute_result"
    }
   ],
   "source": [
    "sim_liq = SimulateLiquidity(1000, 200, 'SYS','DIA')\n",
    "\n",
    "liq = sim_liq.get_liquidity_obj()\n",
    "liq.calc()\n",
    "liq.get_price()"
   ]
  },
  {
   "cell_type": "code",
   "execution_count": 57,
   "id": "3196f2dd-9449-4615-abe7-aa03caf25a37",
   "metadata": {},
   "outputs": [],
   "source": [
    "liq = Liquidity(1000, 200, 'SYS','DIA')"
   ]
  },
  {
   "cell_type": "code",
   "execution_count": null,
   "id": "f9413067-629b-42e4-8a14-0e52242f137a",
   "metadata": {},
   "outputs": [],
   "source": [
    "delta_y = np.random.gamma(shape, scale)\n",
    "delta_x = (liq.get_y_real() + delta_y)/p_arr[1] - liq.get_x_real()\n",
    "liq.add_delta_y(delta_y)\n",
    "liq.add_delta_x(delta_x)\n",
    "#liq.calc()\n",
    "#liq.get_price()"
   ]
  },
  {
   "cell_type": "code",
   "execution_count": null,
   "id": "1ddc62c0-b461-4675-96fe-6ac50d859d04",
   "metadata": {},
   "outputs": [],
   "source": [
    "delta_y = np.random.gamma(shape, scale)\n",
    "delta_x = (liq.get_y_real() + delta_y)/p_arr[2] - liq.get_x_real()\n",
    "liq.add_delta_y(delta_y)\n",
    "liq.add_delta_x(delta_x)\n",
    "#liq.calc()\n",
    "#liq.get_price()"
   ]
  },
  {
   "cell_type": "code",
   "execution_count": null,
   "id": "0424ce49-0d31-4445-ae53-3a953ab85e70",
   "metadata": {},
   "outputs": [],
   "source": [
    "delta_y = np.random.gamma(shape, scale)\n",
    "delta_x = (liq.get_y_real() + delta_y)/p_arr[3] - liq.get_x_real()\n",
    "liq.add_delta_y(delta_y)\n",
    "liq.add_delta_x(delta_x)\n",
    "liq.calc()\n",
    "liq.get_price()"
   ]
  },
  {
   "cell_type": "code",
   "execution_count": null,
   "id": "d879b6e0-ae24-4892-87d7-c315277eee23",
   "metadata": {},
   "outputs": [],
   "source": [
    "liq.get_x_real()"
   ]
  },
  {
   "cell_type": "code",
   "execution_count": null,
   "id": "8b5a4302-afc3-4661-ae15-3f8ff931a68f",
   "metadata": {},
   "outputs": [],
   "source": [
    "liq.get_y_real()"
   ]
  },
  {
   "cell_type": "code",
   "execution_count": null,
   "id": "82e23403-aa4f-4877-8f90-14619f85c788",
   "metadata": {},
   "outputs": [],
   "source": [
    "liq.get_price()"
   ]
  },
  {
   "cell_type": "code",
   "execution_count": null,
   "id": "68ba4c0b-3036-4337-95f0-059a9c85ed9f",
   "metadata": {},
   "outputs": [],
   "source": [
    "liq.add_delta_y(delta_y)\n",
    "liq.add_delta_x(delta_x)\n",
    "liq.calc()\n",
    "liq.get_price()"
   ]
  },
  {
   "cell_type": "code",
   "execution_count": null,
   "id": "2923a2a8-3671-4194-b083-6962999188fc",
   "metadata": {},
   "outputs": [],
   "source": [
    "liq.get_x_real()"
   ]
  },
  {
   "cell_type": "code",
   "execution_count": null,
   "id": "26d67544-8ace-4e05-abfd-4efbe5b3116d",
   "metadata": {},
   "outputs": [],
   "source": [
    "y_new = 10\n",
    "\n",
    "(liq.get_x_real()*y_new)/(liq.get_y_real()+y_new)\n"
   ]
  },
  {
   "cell_type": "code",
   "execution_count": null,
   "id": "00a07de9-0e9d-4c34-9fcb-1da1dbc0fd41",
   "metadata": {},
   "outputs": [],
   "source": [
    "30/133"
   ]
  },
  {
   "cell_type": "code",
   "execution_count": null,
   "id": "1713edcc-738a-4cc3-88fb-41176b3ebd6e",
   "metadata": {},
   "outputs": [],
   "source": [
    "liq.get_y_real()"
   ]
  },
  {
   "cell_type": "code",
   "execution_count": null,
   "id": "1f3e7b5e-f78d-49ba-9fba-2c4b13e7ac08",
   "metadata": {},
   "outputs": [],
   "source": [
    "liq = Liquidity(100, 20, 'SYS','DIA')"
   ]
  },
  {
   "cell_type": "code",
   "execution_count": null,
   "id": "5a82f45a-c811-4f99-9272-a5a4ff383978",
   "metadata": {},
   "outputs": [],
   "source": [
    "delta_y = (p_arr[1]-p_arr[0])*liq.get_x_real() \n",
    "liq.add_delta_y(delta_y)\n",
    "liq.calc()\n",
    "liq.get_price()"
   ]
  },
  {
   "cell_type": "code",
   "execution_count": null,
   "id": "bbd8ecbb-7cae-4460-981a-b470fe48553b",
   "metadata": {},
   "outputs": [],
   "source": [
    "liq.get_x_real()"
   ]
  },
  {
   "cell_type": "code",
   "execution_count": null,
   "id": "636fe557-46dd-4e02-a93f-6f3b96dd4a09",
   "metadata": {},
   "outputs": [],
   "source": [
    "delta_y = (p_arr[2]-p_arr[1])*liq.get_x_real()\n",
    "liq.add_delta_y(delta_y)\n",
    "liq.calc()\n",
    "liq.get_price()"
   ]
  },
  {
   "cell_type": "code",
   "execution_count": null,
   "id": "ffa53eb5-14d0-4e3e-946d-41e52c3ee3b7",
   "metadata": {},
   "outputs": [],
   "source": [
    "delta_y = (p_arr[3]-p_arr[2])*liq.get_x_real()\n",
    "liq.add_delta_y(delta_y)\n",
    "liq.calc()\n",
    "liq.get_price()"
   ]
  },
  {
   "cell_type": "code",
   "execution_count": null,
   "id": "aa417c41-2251-47d8-ab99-b2cfb3760a14",
   "metadata": {},
   "outputs": [],
   "source": [
    "liq.get_y_real()"
   ]
  },
  {
   "cell_type": "code",
   "execution_count": null,
   "id": "93c1c4d7-cb27-432d-9a86-e7ebe5f65a9f",
   "metadata": {},
   "outputs": [],
   "source": [
    "liq.get_x_real()"
   ]
  },
  {
   "cell_type": "code",
   "execution_count": null,
   "id": "d08e8e48-7e0e-4043-a1a1-8c6c2af5ec56",
   "metadata": {},
   "outputs": [],
   "source": [
    "p_arr[0:5]"
   ]
  },
  {
   "cell_type": "code",
   "execution_count": null,
   "id": "d492f1ae-99e3-4498-a933-d51a37abe455",
   "metadata": {},
   "outputs": [],
   "source": [
    "#SYS_DAI_LP_prices[1:]"
   ]
  },
  {
   "cell_type": "code",
   "execution_count": null,
   "id": "d291c2fb-0d26-4b52-9659-c7f4c0083845",
   "metadata": {},
   "outputs": [],
   "source": [
    "SYS_DAI_LP = SYS_DAI.get_lp().get_lp_events()\n",
    "SYS_DAI_LP_prices = SYS_DAI_LP.get_prices()\n",
    "SYS_DAI_LP_dates = SYS_DAI_LP.get_dates()\n",
    "\n",
    "fig, (SYS_DAI_ax) = plt.subplots(nrows=1, sharex=True, sharey=False, figsize=(18, 5))\n",
    "SYS_DAI_ax.plot(SYS_DAI_LP_dates[1:], 1/SYS_DAI_LP_prices[1:], label='prices') \n",
    "SYS_DAI_ax.plot(SYS_DAI_LP_dates[1:], p_arr[2:], color = 'r', label='prices') \n",
    "\n",
    "SYS_DAI_ax.set_title(\"USER1: SYS_DAI_LP Prices (rebasing token)\", fontsize=20)\n",
    "SYS_DAI_ax.set_ylabel(\"SYS / DIA\", fontsize=16)\n",
    "SYS_DAI_ax.set_xlabel('Time', fontsize=16)\n",
    "SYS_DAI_ax.legend()"
   ]
  },
  {
   "cell_type": "code",
   "execution_count": null,
   "id": "e6431037-06f0-4141-8dfa-7917c0273d27",
   "metadata": {},
   "outputs": [],
   "source": [
    "#orchestrator.print_logs()"
   ]
  },
  {
   "cell_type": "code",
   "execution_count": null,
   "id": "5ee23580-8735-4d91-bd58-7e2ae5e04a66",
   "metadata": {},
   "outputs": [],
   "source": [
    "SYS_DAI_LP.get_event(1).get_liquidity().get_y_real()"
   ]
  },
  {
   "cell_type": "code",
   "execution_count": null,
   "id": "8822f8b0-d29d-47bb-a5cc-b5d13bf2e66d",
   "metadata": {},
   "outputs": [],
   "source": [
    "SYS_DAI_LP.get_event(1).get_liquidity().get_x_real()"
   ]
  },
  {
   "cell_type": "code",
   "execution_count": null,
   "id": "afca6ed3-ba68-44b6-94d3-5e4ff5f3b64a",
   "metadata": {},
   "outputs": [],
   "source": [
    "SYS_DAI_LP.get_event(1).get_liquidity().get_price()"
   ]
  },
  {
   "cell_type": "code",
   "execution_count": null,
   "id": "43ceb52e-b214-49ce-bf3d-d141a5842db1",
   "metadata": {},
   "outputs": [],
   "source": [
    "SYS_DAI_LP.get_event(3).get_liquidity().get_liquidity_val()"
   ]
  },
  {
   "cell_type": "code",
   "execution_count": null,
   "id": "4d89ec6b-8653-4c23-92bf-5a1f28850cab",
   "metadata": {},
   "outputs": [],
   "source": [
    "#b = BrownianModel(0.2)\n",
    "#p_arr = b.gen_gbm(0.1, 1, 365, 1)\n",
    "#xy_arr = gen_xy_arr(p_arr, 100)"
   ]
  }
 ],
 "metadata": {
  "kernelspec": {
   "display_name": "Python 3 (ipykernel)",
   "language": "python",
   "name": "python3"
  },
  "language_info": {
   "codemirror_mode": {
    "name": "ipython",
    "version": 3
   },
   "file_extension": ".py",
   "mimetype": "text/x-python",
   "name": "python",
   "nbconvert_exporter": "python",
   "pygments_lexer": "ipython3",
   "version": "3.9.7"
  }
 },
 "nbformat": 4,
 "nbformat_minor": 5
}
