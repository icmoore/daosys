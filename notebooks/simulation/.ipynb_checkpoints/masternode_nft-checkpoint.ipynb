{
 "cells": [
  {
   "cell_type": "markdown",
   "id": "5f5b4224-655e-4a81-b918-715b4c9c623e",
   "metadata": {},
   "source": [
    "### Masternode NFT"
   ]
  },
  {
   "cell_type": "code",
   "execution_count": 1,
   "id": "2f8e2b86-aaca-4f8f-b4ad-f8d5fb9e60c2",
   "metadata": {},
   "outputs": [],
   "source": [
    "import os\n",
    "import copy\n",
    "import numpy as np\n",
    "import time\n",
    "import matplotlib.pyplot as plt\n",
    "cwd =  os.getcwd().replace(\"notebooks/simulation\",\"\")\n",
    "os.chdir(cwd)\n",
    "\n",
    "from python.dev.helper import Helper\n",
    "\n",
    "from python.dev.simulation import SimulationOrchestrator\n",
    "from python.dev.simulation import EventQueue\n",
    "from python.dev.simulation import EventExecutor\n",
    "\n",
    "from python.dev.agent import TokenAgent\n",
    "from python.dev.agent import LPTokenAgent\n",
    "from python.dev.agent import UserAgent\n",
    "\n",
    "from python.dev.action import MintAction\n",
    "from python.dev.action import DepositAction\n",
    "from python.dev.action import LPDepositChainAction\n",
    "from python.dev.action import DepositChainAction\n",
    "from python.dev.action import WithdrawChainAction\n",
    "from python.dev.action import WithdrawAction\n",
    "from python.dev.action import SwapAction\n",
    "from python.dev.event import Mint\n",
    "from python.dev.event import Deposit\n",
    "from python.dev.event import Withdraw\n",
    "from python.dev.event import Swap\n",
    "\n",
    "from python.dev.simulation.batch import WithdrawBatch\n",
    "from python.dev.simulation.batch import DepositBatch\n",
    "from python.dev.simulation.batch import SwapBatch\n",
    "from python.dev.simulation.batch.set import BatchSet\n",
    "\n",
    "from python.dev.math.model import TokenDeltaModel\n",
    "from python.dev.math.model import TimeDeltaModel\n",
    "\n",
    "from python.dev.lp import LiquidityPool\n",
    "from python.dev.lp.event import LPEvent\n",
    "from python.dev.lp.event import MintLPEvent\n",
    "from python.dev.lp.event import DepositLPEvent\n",
    "from python.dev.lp.event import SwapLPEvent"
   ]
  },
  {
   "cell_type": "markdown",
   "id": "3aab447f-26a9-4898-a04c-cf99a6141c0b",
   "metadata": {},
   "source": [
    "### Initialize Agents"
   ]
  },
  {
   "cell_type": "code",
   "execution_count": 2,
   "id": "ed4d1a6d-d638-4939-a5fc-1234f9e0453d",
   "metadata": {},
   "outputs": [],
   "source": [
    "USER1 = UserAgent('USER1')\n",
    "SYS = TokenAgent('SYS')\n",
    "DAI = TokenAgent('DAI')\n",
    "USER2 = UserAgent('USER2')\n",
    "\n",
    "SYS_DAI_LP = LiquidityPool('SYS/DAI', USER1, SYS, DAI)\n",
    "SYS_DAI = LPTokenAgent('SYS_DAI_LP', SYS_DAI_LP)"
   ]
  },
  {
   "cell_type": "markdown",
   "id": "db4de42f-cfce-4221-8bb1-e83ab284d4fa",
   "metadata": {},
   "source": [
    "### Mint"
   ]
  },
  {
   "cell_type": "code",
   "execution_count": 3,
   "id": "fb378031-440b-4c1a-8dde-3bb26646af5e",
   "metadata": {},
   "outputs": [],
   "source": [
    "apy = 0.1\n",
    "t_delta = 109*3600"
   ]
  },
  {
   "cell_type": "code",
   "execution_count": 4,
   "id": "553291de-2411-42cf-95ed-b251a116f019",
   "metadata": {},
   "outputs": [],
   "source": [
    "SYS_mint1 = Mint(5000, apy, True)\n",
    "DAI_mint1 = Mint(5000, apy, True)\n",
    "SYS_DAI_LP_mint1 = Mint(0, apy, True)\n",
    "\n",
    "SYS_mint2 = Mint(100000, apy, True)\n",
    "DAI_mint2 = Mint(0, apy, True)\n",
    "SYS_DAI_LP_mint2 = Mint(0, apy, True)"
   ]
  },
  {
   "cell_type": "code",
   "execution_count": 5,
   "id": "891ac1fc-a587-46bc-88ae-f59bfe7152b4",
   "metadata": {},
   "outputs": [],
   "source": [
    "m_action1 = MintAction(SYS_mint1, SYS, USER1)\n",
    "m_action2 = MintAction(DAI_mint1, DAI, USER1)\n",
    "m_action3 = MintAction(SYS_DAI_LP_mint1, SYS_DAI, USER1)\n",
    "\n",
    "m_action4 = MintAction(SYS_mint2, SYS, USER2)\n",
    "m_action5 = MintAction(DAI_mint2, DAI, USER2)\n",
    "m_action6 = MintAction(SYS_DAI_LP_mint2, SYS_DAI, USER2)"
   ]
  },
  {
   "cell_type": "markdown",
   "id": "04946423-49d1-4594-a0d6-e689747219a4",
   "metadata": {},
   "source": [
    "### Setup Actions"
   ]
  },
  {
   "cell_type": "code",
   "execution_count": 6,
   "id": "501d64f1-9e1c-4af8-9948-f5879aabf4b5",
   "metadata": {},
   "outputs": [],
   "source": [
    "sub_withdraw1 = Withdraw(apy, 1000, 0) \n",
    "w_action1 = WithdrawAction(sub_withdraw1, SYS, USER1, SYS_mint1.get_id())\n",
    "d_action1 = LPDepositChainAction(w_action1, SYS_DAI, USER1, SYS_DAI_LP_mint1.get_id())"
   ]
  },
  {
   "cell_type": "code",
   "execution_count": 7,
   "id": "20920d6d-3929-4774-9314-a5ce2c098008",
   "metadata": {},
   "outputs": [],
   "source": [
    "sub_withdraw2 = Withdraw(apy, 1000, 0) \n",
    "w_action2 = WithdrawAction(sub_withdraw2, DAI, USER1, DAI_mint1.get_id())\n",
    "d_action2 = LPDepositChainAction(w_action2, SYS_DAI, USER1, SYS_DAI_LP_mint1.get_id())"
   ]
  },
  {
   "cell_type": "markdown",
   "id": "636f54d8-8e35-4d3a-a2d6-f6df2136e8e4",
   "metadata": {},
   "source": [
    "### Batchset 1"
   ]
  },
  {
   "cell_type": "code",
   "execution_count": 8,
   "id": "05cdbeaa-10aa-4548-bac4-f35624896286",
   "metadata": {},
   "outputs": [],
   "source": [
    "deposit1 = Deposit(apy, 5000, t_delta) # \n",
    "sub_withdraw1 = Withdraw(apy, 2500, t_delta)\n",
    "sub_deposit1 = Deposit(apy, 2500, t_delta)"
   ]
  },
  {
   "cell_type": "code",
   "execution_count": 9,
   "id": "3f6e3ec4-1f0e-4ccd-b518-8389c066de37",
   "metadata": {},
   "outputs": [],
   "source": [
    "d_action3 = DepositAction(deposit1, SYS, USER2, SYS_mint2.get_id())\n",
    "sub_w_action1 = WithdrawAction(sub_withdraw1, SYS, USER2, SYS_mint2.get_id())\n",
    "sub_d_action1 = DepositAction(sub_deposit1, DAI, USER2, DAI_mint2.get_id())\n",
    "s_action1 = SwapAction(sub_w_action1, sub_d_action1)\n",
    "w_action3 = WithdrawChainAction(s_action1, DAI, USER2, DAI_mint2.get_id())\n",
    "d_action5 = LPDepositChainAction(w_action3, SYS_DAI, USER2, SYS_DAI_LP_mint2.get_id())\n"
   ]
  },
  {
   "cell_type": "markdown",
   "id": "633c8ecb-376f-488e-bbe5-0529080ee62d",
   "metadata": {},
   "source": [
    "### Batchset 2"
   ]
  },
  {
   "cell_type": "code",
   "execution_count": 10,
   "id": "fafa0fa8-dc8d-4654-99fd-dbfb6e6af339",
   "metadata": {},
   "outputs": [],
   "source": [
    "deposit2 = Deposit(apy, 50, t_delta)\n",
    "sub_withdraw2 = Withdraw(apy, 25, t_delta)\n",
    "sub_deposit2 = Deposit(apy, 25, t_delta)"
   ]
  },
  {
   "cell_type": "code",
   "execution_count": 11,
   "id": "8b1314d1-01ab-4b44-8afb-d147735b9b9b",
   "metadata": {},
   "outputs": [],
   "source": [
    "d_action6 = DepositAction(deposit2, SYS, USER1, SYS_mint1.get_id())\n",
    "sub_w_action2 = WithdrawAction(sub_withdraw2, SYS, USER1, SYS_mint1.get_id())\n",
    "sub_d_action2 = DepositAction(sub_deposit2, DAI, USER1, DAI_mint1.get_id())\n",
    "s_action2 = SwapAction(sub_w_action2, sub_d_action2)\n",
    "w_action4 = WithdrawChainAction(s_action2, DAI, USER1, DAI_mint1.get_id())\n",
    "d_action7 = LPDepositChainAction(w_action4, SYS_DAI, USER1, SYS_DAI_LP_mint1.get_id())\n"
   ]
  },
  {
   "cell_type": "markdown",
   "id": "e2991ffc-ab71-438b-80ac-ba619c4a1c7c",
   "metadata": {},
   "source": [
    "### Run event queue"
   ]
  },
  {
   "cell_type": "code",
   "execution_count": 12,
   "id": "64c043fe-790c-4a4f-8f82-a17fe73d871d",
   "metadata": {},
   "outputs": [],
   "source": [
    "q = EventQueue()\n",
    "q.add_event(m_action1)\n",
    "q.add_event(m_action2)\n",
    "q.add_event(m_action3)\n",
    "q.add_event(m_action4)\n",
    "q.add_event(m_action5)\n",
    "q.add_event(m_action6)\n",
    "\n",
    "# Setup\n",
    "q.add_event(w_action1)\n",
    "q.add_event(d_action1)\n",
    "q.add_event(w_action2)\n",
    "q.add_event(d_action2)"
   ]
  },
  {
   "cell_type": "code",
   "execution_count": 13,
   "id": "6c614532-63fc-4b8d-a543-a8569dddc670",
   "metadata": {},
   "outputs": [],
   "source": [
    "for k in range(20):\n",
    "    # Batch #1\n",
    "    q.add_event(d_action3)\n",
    "    q.add_event(s_action1)\n",
    "    q.add_event(w_action3)\n",
    "    q.add_event(d_action5)\n",
    "\n",
    "    # Batch #2\n",
    "    q.add_event(d_action6)\n",
    "    q.add_event(s_action2)\n",
    "    q.add_event(w_action4)\n",
    "    q.add_event(d_action7)"
   ]
  },
  {
   "cell_type": "code",
   "execution_count": 14,
   "id": "40428bc0-0452-45ca-ad48-cf70f2ac8d74",
   "metadata": {},
   "outputs": [],
   "source": [
    "orchestrator = SimulationOrchestrator(verbose = False)\n",
    "executor = EventExecutor(q, orchestrator)\n",
    "executor.run()"
   ]
  },
  {
   "cell_type": "code",
   "execution_count": 15,
   "id": "f6f4d597-43f5-4199-bff4-f7a4ee75aa20",
   "metadata": {},
   "outputs": [],
   "source": [
    "tSYS = SYS.get_token()\n",
    "tDAI = DAI.get_token()\n",
    "tSYS_DAI = SYS_DAI.get_token()\n",
    "\n",
    "SYS_addr1 = SYS.get_address(SYS_mint1.get_id())\n",
    "DAI_addr1 = DAI.get_address(DAI_mint1.get_id())\n",
    "SYS_DAI_addr1 = SYS_DAI.get_address(SYS_DAI_LP_mint1.get_id())\n",
    "\n",
    "SYS_addr2 = SYS.get_address(SYS_mint2.get_id())\n",
    "DAI_addr2 = DAI.get_address(DAI_mint2.get_id())\n",
    "SYS_DAI_addr2 = SYS_DAI.get_address(SYS_DAI_LP_mint2.get_id())"
   ]
  },
  {
   "cell_type": "code",
   "execution_count": 27,
   "id": "57cb7e7e-878c-4a54-a2b9-35b5cc980bd6",
   "metadata": {},
   "outputs": [
    {
     "data": {
      "text/plain": [
       "<matplotlib.legend.Legend at 0x7f7fc8e3ed00>"
      ]
     },
     "execution_count": 27,
     "metadata": {},
     "output_type": "execute_result"
    },
    {
     "data": {
      "image/png": "[encoded data removed]",
      "text/plain": [
       "<Figure size 1296x1080 with 3 Axes>"
      ]
     },
     "metadata": {
      "needs_background": "light"
     },
     "output_type": "display_data"
    }
   ],
   "source": [
    "# Analyze Token balances\n",
    "\n",
    "SYS_states1 = tSYS.get_state_series(SYS_addr1)\n",
    "principle = SYS_states1.get_principle() \n",
    "balance = SYS_states1.get_balance() \n",
    "tSamp = SYS_states1.get_tstamp()  \n",
    "\n",
    "fig, (SYS_ax, DAI_ax, SYS_DAI_ax) = plt.subplots(nrows=3, sharex=True, sharey=False, figsize=(18, 15))\n",
    "\n",
    "SYS_ax.plot(tSamp[1:], balance[1:], label='balance') \n",
    "SYS_ax.plot(tSamp[1:], principle[1:], label='principle') \n",
    "SYS_ax.set_title(\"SYS Balance (rebasing token)\", fontsize=20)\n",
    "SYS_ax.set_ylabel(\"Token balance (SYS)\", fontsize=16)\n",
    "SYS_ax.set_xlabel('Time', fontsize=16)\n",
    "SYS_ax.legend()\n",
    "\n",
    "DAI_states1 = tDAI.get_state_series(DAI_addr1)\n",
    "principle = DAI_states1.get_principle() \n",
    "balance = DAI_states1.get_balance() \n",
    "tSamp = DAI_states1.get_tstamp() \n",
    "\n",
    "DAI_ax.plot(tSamp[1:], balance[1:], label='balance') \n",
    "DAI_ax.plot(tSamp[1:], principle[1:], label='principle') \n",
    "DAI_ax.set_title(\"DAI Balance (rebasing token)\", fontsize=20)\n",
    "DAI_ax.set_ylabel(\"Token balance (SYS)\", fontsize=16)\n",
    "DAI_ax.set_xlabel('Time', fontsize=16)\n",
    "DAI_ax.legend()\n",
    "\n",
    "SYS_DAI_states1 = tSYS_DAI.get_state_series(SYS_DAI_addr1)\n",
    "principle = SYS_DAI_states1.get_principle() \n",
    "balance = SYS_DAI_states1.get_balance() \n",
    "tSamp = SYS_DAI_states1.get_tstamp() \n",
    "\n",
    "SYS_DAI_ax.plot(tSamp[2:], balance[2:], label='balance') \n",
    "SYS_DAI_ax.plot(tSamp[2:], principle[2:], label='principle') \n",
    "SYS_DAI_ax.set_title(\"SYS_DAI_LP Balance (rebasing token)\", fontsize=20)\n",
    "SYS_DAI_ax.set_ylabel(\"Token balance\", fontsize=16)\n",
    "SYS_DAI_ax.set_xlabel('Time', fontsize=16)\n",
    "SYS_DAI_ax.legend()\n"
   ]
  },
  {
   "cell_type": "code",
   "execution_count": 17,
   "id": "24621535-e597-42be-8fb5-a439abe03e34",
   "metadata": {},
   "outputs": [
    {
     "data": {
      "text/plain": [
       "[5000,\n",
       " 4000,\n",
       " 4050,\n",
       " 4025,\n",
       " 4075,\n",
       " 4050,\n",
       " 4100,\n",
       " 4075,\n",
       " 4125,\n",
       " 4100,\n",
       " 4150,\n",
       " 4125,\n",
       " 4175,\n",
       " 4150,\n",
       " 4200,\n",
       " 4175,\n",
       " 4225,\n",
       " 4200,\n",
       " 4250,\n",
       " 4225,\n",
       " 4275,\n",
       " 4250]"
      ]
     },
     "execution_count": 17,
     "metadata": {},
     "output_type": "execute_result"
    }
   ],
   "source": [
    "SYS_states1.get_principle() "
   ]
  },
  {
   "cell_type": "code",
   "execution_count": 18,
   "id": "df1c4ffd-cfaa-47d6-91de-7692e383edd6",
   "metadata": {},
   "outputs": [
    {
     "data": {
      "text/plain": [
       "[5000,\n",
       " 4000,\n",
       " 4025,\n",
       " 4000,\n",
       " 4025,\n",
       " 4000,\n",
       " 4025,\n",
       " 4000,\n",
       " 4025,\n",
       " 4000,\n",
       " 4025,\n",
       " 4000,\n",
       " 4025,\n",
       " 4000,\n",
       " 4025,\n",
       " 4000,\n",
       " 4025,\n",
       " 4000,\n",
       " 4025,\n",
       " 4000,\n",
       " 4025,\n",
       " 4000]"
      ]
     },
     "execution_count": 18,
     "metadata": {},
     "output_type": "execute_result"
    }
   ],
   "source": [
    "DAI_states1.get_principle() "
   ]
  },
  {
   "cell_type": "code",
   "execution_count": 19,
   "id": "82690a11-1514-4a40-af4f-474c8bbf012a",
   "metadata": {},
   "outputs": [
    {
     "data": {
      "text/plain": [
       "[0,\n",
       " 0.0,\n",
       " 1000.0,\n",
       " 1048.8217746328207,\n",
       " 1086.8435130511782,\n",
       " 1119.6928457993229,\n",
       " 1149.4651436998167,\n",
       " 1177.2057781616093,\n",
       " 1203.5240534050388,\n",
       " 1228.8118352642603,\n",
       " 1253.3390260347758,\n",
       " 1277.3012077085457,\n",
       " 1300.8457823011374]"
      ]
     },
     "execution_count": 19,
     "metadata": {},
     "output_type": "execute_result"
    }
   ],
   "source": [
    "SYS_DAI_states1.get_principle() "
   ]
  },
  {
   "cell_type": "code",
   "execution_count": 20,
   "id": "fe882d08-761a-4d01-9773-08d17a15ffd6",
   "metadata": {},
   "outputs": [],
   "source": [
    "SYS_states2 = tSYS.get_state_series(SYS_addr2)\n",
    "DAI_states2 = tDAI.get_state_series(DAI_addr2)\n",
    "SYS_DAI_states2 = tSYS_DAI.get_state_series(SYS_DAI_addr2)"
   ]
  },
  {
   "cell_type": "code",
   "execution_count": 21,
   "id": "4348474e-9d99-4932-bb26-5311bfd85742",
   "metadata": {},
   "outputs": [
    {
     "data": {
      "text/plain": [
       "[100000,\n",
       " 105000,\n",
       " 102500,\n",
       " 107500,\n",
       " 105000,\n",
       " 110000,\n",
       " 107500,\n",
       " 112500,\n",
       " 110000,\n",
       " 115000,\n",
       " 112500,\n",
       " 117500,\n",
       " 115000,\n",
       " 120000,\n",
       " 117500,\n",
       " 122500,\n",
       " 120000,\n",
       " 125000,\n",
       " 122500,\n",
       " 127500,\n",
       " 125000]"
      ]
     },
     "execution_count": 21,
     "metadata": {},
     "output_type": "execute_result"
    }
   ],
   "source": [
    "SYS_states2.get_principle() "
   ]
  },
  {
   "cell_type": "code",
   "execution_count": 22,
   "id": "c2326887-bf88-4e0d-89f7-5ed6d0850b21",
   "metadata": {},
   "outputs": [
    {
     "data": {
      "text/plain": [
       "[0,\n",
       " 2500,\n",
       " 0,\n",
       " 2500,\n",
       " 0,\n",
       " 2500,\n",
       " 0,\n",
       " 2500,\n",
       " 0,\n",
       " 2500,\n",
       " 0,\n",
       " 2500,\n",
       " 0,\n",
       " 2500,\n",
       " 0,\n",
       " 2500,\n",
       " 0,\n",
       " 2500,\n",
       " 0,\n",
       " 2500,\n",
       " 0]"
      ]
     },
     "execution_count": 22,
     "metadata": {},
     "output_type": "execute_result"
    }
   ],
   "source": [
    "DAI_states2.get_principle() "
   ]
  },
  {
   "cell_type": "code",
   "execution_count": 23,
   "id": "f926d3c3-f18d-41f0-b726-e6b73b6f662a",
   "metadata": {},
   "outputs": [
    {
     "data": {
      "text/plain": [
       "[0,\n",
       " 1937.8999798690998,\n",
       " 2545.143103826769,\n",
       " 3033.698547224457,\n",
       " 3456.07696239989,\n",
       " 3835.1682071031105,\n",
       " 4183.443815566019,\n",
       " 4508.627057227874,\n",
       " 4815.927476067596,\n",
       " 5109.085806596442,\n",
       " 5390.922563104833]"
      ]
     },
     "execution_count": 23,
     "metadata": {},
     "output_type": "execute_result"
    }
   ],
   "source": [
    "SYS_DAI_states2.get_principle() "
   ]
  },
  {
   "cell_type": "code",
   "execution_count": 24,
   "id": "c21c2c82-a769-4da8-99ca-c8ec62efa0c3",
   "metadata": {},
   "outputs": [],
   "source": [
    "tSamp = SYS_DAI_LP.get_lp_events().get_dates()\n",
    "prices = SYS_DAI_LP.get_lp_events().get_prices()\n",
    "liquidities = SYS_DAI_LP.get_lp_events().get_liquidity_values()"
   ]
  },
  {
   "cell_type": "code",
   "execution_count": 25,
   "id": "c2ae532c-8ddf-46db-9e5e-dbd5014ebd16",
   "metadata": {},
   "outputs": [],
   "source": [
    "#prices"
   ]
  }
 ],
 "metadata": {
  "kernelspec": {
   "display_name": "Python 3 (ipykernel)",
   "language": "python",
   "name": "python3"
  },
  "language_info": {
   "codemirror_mode": {
    "name": "ipython",
    "version": 3
   },
   "file_extension": ".py",
   "mimetype": "text/x-python",
   "name": "python",
   "nbconvert_exporter": "python",
   "pygments_lexer": "ipython3",
   "version": "3.9.7"
  }
 },
 "nbformat": 4,
 "nbformat_minor": 5
}
