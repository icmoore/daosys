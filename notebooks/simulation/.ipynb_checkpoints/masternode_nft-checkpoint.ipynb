{
 "cells": [
  {
   "cell_type": "markdown",
   "id": "5f5b4224-655e-4a81-b918-715b4c9c623e",
   "metadata": {},
   "source": [
    "### Simulation: Masternode Yield Farming"
   ]
  },
  {
   "cell_type": "code",
   "execution_count": 1,
   "id": "2f8e2b86-aaca-4f8f-b4ad-f8d5fb9e60c2",
   "metadata": {},
   "outputs": [
    {
     "ename": "ImportError",
     "evalue": "cannot import name 'WithdrawBatch' from 'python.dev.simulation.batch' (/Users/ian_moore/repos/daosys/python/dev/simulation/batch/__init__.py)",
     "output_type": "error",
     "traceback": [
      "\u001b[0;31m---------------------------------------------------------------------------\u001b[0m",
      "\u001b[0;31mImportError\u001b[0m                               Traceback (most recent call last)",
      "\u001b[0;32m/var/folders/97/wcmz4r710pj20v_3cnvl09cm0000gn/T/ipykernel_5453/3402206264.py\u001b[0m in \u001b[0;36m<module>\u001b[0;34m\u001b[0m\n\u001b[1;32m     30\u001b[0m \u001b[0;32mfrom\u001b[0m \u001b[0mpython\u001b[0m\u001b[0;34m.\u001b[0m\u001b[0mdev\u001b[0m\u001b[0;34m.\u001b[0m\u001b[0mevent\u001b[0m \u001b[0;32mimport\u001b[0m \u001b[0mSwap\u001b[0m\u001b[0;34m\u001b[0m\u001b[0;34m\u001b[0m\u001b[0m\n\u001b[1;32m     31\u001b[0m \u001b[0;34m\u001b[0m\u001b[0m\n\u001b[0;32m---> 32\u001b[0;31m \u001b[0;32mfrom\u001b[0m \u001b[0mpython\u001b[0m\u001b[0;34m.\u001b[0m\u001b[0mdev\u001b[0m\u001b[0;34m.\u001b[0m\u001b[0msimulation\u001b[0m\u001b[0;34m.\u001b[0m\u001b[0mbatch\u001b[0m \u001b[0;32mimport\u001b[0m \u001b[0mWithdrawBatch\u001b[0m\u001b[0;34m\u001b[0m\u001b[0;34m\u001b[0m\u001b[0m\n\u001b[0m\u001b[1;32m     33\u001b[0m \u001b[0;32mfrom\u001b[0m \u001b[0mpython\u001b[0m\u001b[0;34m.\u001b[0m\u001b[0mdev\u001b[0m\u001b[0;34m.\u001b[0m\u001b[0msimulation\u001b[0m\u001b[0;34m.\u001b[0m\u001b[0mbatch\u001b[0m \u001b[0;32mimport\u001b[0m \u001b[0mDepositBatch\u001b[0m\u001b[0;34m\u001b[0m\u001b[0;34m\u001b[0m\u001b[0m\n\u001b[1;32m     34\u001b[0m \u001b[0;32mfrom\u001b[0m \u001b[0mpython\u001b[0m\u001b[0;34m.\u001b[0m\u001b[0mdev\u001b[0m\u001b[0;34m.\u001b[0m\u001b[0msimulation\u001b[0m\u001b[0;34m.\u001b[0m\u001b[0mbatch\u001b[0m \u001b[0;32mimport\u001b[0m \u001b[0mSwapBatch\u001b[0m\u001b[0;34m\u001b[0m\u001b[0;34m\u001b[0m\u001b[0m\n",
      "\u001b[0;31mImportError\u001b[0m: cannot import name 'WithdrawBatch' from 'python.dev.simulation.batch' (/Users/ian_moore/repos/daosys/python/dev/simulation/batch/__init__.py)"
     ]
    }
   ],
   "source": [
    "import os\n",
    "import copy\n",
    "import numpy as np\n",
    "import time\n",
    "import matplotlib.pyplot as plt\n",
    "from IPython.display import Image\n",
    "cwd =  os.getcwd().replace(\"notebooks/simulation\",\"\")\n",
    "os.chdir(cwd)\n",
    "\n",
    "from python.dev.helper import Helper\n",
    "\n",
    "from python.dev.simulation import SimulationOrchestrator\n",
    "from python.dev.simulation import EventQueue\n",
    "from python.dev.simulation import EventExecutor\n",
    "\n",
    "from python.dev.agent import TokenAgent\n",
    "from python.dev.agent import LPTokenAgent\n",
    "from python.dev.agent import UserAgent\n",
    "\n",
    "from python.dev.action import MintAction\n",
    "from python.dev.action import DepositAction\n",
    "from python.dev.action import LPDepositChainAction\n",
    "from python.dev.action import DepositChainAction\n",
    "from python.dev.action import WithdrawChainAction\n",
    "from python.dev.action import WithdrawAction\n",
    "from python.dev.action import SwapAction\n",
    "from python.dev.event import Mint\n",
    "from python.dev.event import Deposit\n",
    "from python.dev.event import Withdraw\n",
    "from python.dev.event import Swap\n",
    "\n",
    "from python.dev.math.model import TokenDeltaModel\n",
    "from python.dev.math.model import TimeDeltaModel\n",
    "\n",
    "from python.dev.lp import LiquidityPool\n",
    "from python.dev.lp.event import LPEvent\n",
    "from python.dev.lp.event import MintLPEvent\n",
    "from python.dev.lp.event import DepositLPEvent\n",
    "from python.dev.lp.event import SwapLPEvent"
   ]
  },
  {
   "cell_type": "code",
   "execution_count": null,
   "id": "ac88596e-355b-4fae-b8ac-3962695f5692",
   "metadata": {},
   "outputs": [],
   "source": [
    "Image(\"images/jupyter/tutorials/masternode_nft.png\", width = 600, height = 600)"
   ]
  },
  {
   "cell_type": "markdown",
   "id": "3aab447f-26a9-4898-a04c-cf99a6141c0b",
   "metadata": {},
   "source": [
    "### Initialize Agents"
   ]
  },
  {
   "cell_type": "code",
   "execution_count": null,
   "id": "ed4d1a6d-d638-4939-a5fc-1234f9e0453d",
   "metadata": {},
   "outputs": [],
   "source": [
    "USER1 = UserAgent('USER1')\n",
    "USER2 = UserAgent('USER2')\n",
    "\n",
    "SYS = TokenAgent('SYS')\n",
    "DAI = TokenAgent('DAI')\n",
    "\n",
    "SYS_DAI_LP = LiquidityPool('SYS/DAI', USER1, SYS, DAI)\n",
    "SYS_DAI = LPTokenAgent('SYS_DAI_LP', SYS_DAI_LP)"
   ]
  },
  {
   "cell_type": "markdown",
   "id": "db4de42f-cfce-4221-8bb1-e83ab284d4fa",
   "metadata": {},
   "source": [
    "### Mint Tokens"
   ]
  },
  {
   "cell_type": "code",
   "execution_count": null,
   "id": "fb378031-440b-4c1a-8dde-3bb26646af5e",
   "metadata": {},
   "outputs": [],
   "source": [
    "apy = 0.1\n",
    "t_delta = 109*24*3600"
   ]
  },
  {
   "cell_type": "code",
   "execution_count": null,
   "id": "553291de-2411-42cf-95ed-b251a116f019",
   "metadata": {},
   "outputs": [],
   "source": [
    "SYS_mint1 = Mint(5000, apy, True)\n",
    "DAI_mint1 = Mint(5000, apy, True)\n",
    "SYS_DAI_LP_mint1 = Mint(0, apy, True)\n",
    "\n",
    "SYS_mint2 = Mint(100000, apy, True)\n",
    "DAI_mint2 = Mint(0, apy, True)\n",
    "SYS_DAI_LP_mint2 = Mint(0, apy, True)"
   ]
  },
  {
   "cell_type": "code",
   "execution_count": null,
   "id": "891ac1fc-a587-46bc-88ae-f59bfe7152b4",
   "metadata": {},
   "outputs": [],
   "source": [
    "m_action1 = MintAction(SYS_mint1, SYS, USER1)\n",
    "m_action2 = MintAction(DAI_mint1, DAI, USER1)\n",
    "m_action3 = MintAction(SYS_DAI_LP_mint1, SYS_DAI, USER1)\n",
    "\n",
    "m_action4 = MintAction(SYS_mint2, SYS, USER2)\n",
    "m_action5 = MintAction(DAI_mint2, DAI, USER2)\n",
    "m_action6 = MintAction(SYS_DAI_LP_mint2, SYS_DAI, USER2)"
   ]
  },
  {
   "cell_type": "markdown",
   "id": "04946423-49d1-4594-a0d6-e689747219a4",
   "metadata": {},
   "source": [
    "### Setup Actions"
   ]
  },
  {
   "cell_type": "code",
   "execution_count": null,
   "id": "501d64f1-9e1c-4af8-9948-f5879aabf4b5",
   "metadata": {},
   "outputs": [],
   "source": [
    "sub_withdraw1 = Withdraw(apy, 2500, 0) \n",
    "sub_withdraw2 = Withdraw(apy, 2500, 0) \n",
    "w_action1 = WithdrawAction(sub_withdraw1, SYS, USER1, SYS_mint1.get_id())\n",
    "w_action2 = WithdrawAction(sub_withdraw2, DAI, USER1, DAI_mint1.get_id())\n",
    "d_action1 = LPDepositChainAction(w_action1, w_action2, SYS_DAI, USER1, SYS_DAI_LP_mint1.get_id())"
   ]
  },
  {
   "cell_type": "markdown",
   "id": "636f54d8-8e35-4d3a-a2d6-f6df2136e8e4",
   "metadata": {},
   "source": [
    "### Batchset 1"
   ]
  },
  {
   "cell_type": "code",
   "execution_count": null,
   "id": "05cdbeaa-10aa-4548-bac4-f35624896286",
   "metadata": {},
   "outputs": [],
   "source": [
    "deposit1 = Deposit(apy, 5000, t_delta) \n",
    "sub_withdraw1 = Withdraw(apy, 2500, 0)\n",
    "sub_deposit1 = Deposit(apy, 2500, t_delta)\n",
    "withdraw1 = Withdraw(apy, 2500, 0) "
   ]
  },
  {
   "cell_type": "code",
   "execution_count": null,
   "id": "3f6e3ec4-1f0e-4ccd-b518-8389c066de37",
   "metadata": {},
   "outputs": [],
   "source": [
    "# Deposit 5000 SYS\n",
    "d_action2 = DepositAction(deposit1, SYS, USER2, SYS_mint2.get_id())\n",
    "\n",
    "# Swap 2500 SYS for DAI\n",
    "sub_w_action1 = WithdrawAction(sub_withdraw1, SYS, USER2, SYS_mint2.get_id())\n",
    "sub_d_action1 = DepositAction(sub_deposit1, DAI, USER2, DAI_mint2.get_id())\n",
    "s_action1 = SwapAction(sub_w_action1, sub_d_action1)\n",
    "\n",
    "# Withdraw DAI proceeds and 2500 SYS\n",
    "w_action3 = WithdrawChainAction(s_action1, DAI, USER2, DAI_mint2.get_id())\n",
    "w_action4 = WithdrawAction(withdraw1, SYS, USER2, SYS_mint2.get_id())\n",
    "\n",
    "# Deposit withdrawn DAI and SYS in LP\n",
    "d_action3 = LPDepositChainAction(w_action3, w_action4, SYS_DAI, USER1, SYS_DAI_LP_mint2.get_id())"
   ]
  },
  {
   "cell_type": "markdown",
   "id": "633c8ecb-376f-488e-bbe5-0529080ee62d",
   "metadata": {},
   "source": [
    "### Batchset 2"
   ]
  },
  {
   "cell_type": "code",
   "execution_count": null,
   "id": "273a8d0c-1ae9-4c91-92f3-b12c004a9a50",
   "metadata": {},
   "outputs": [],
   "source": [
    "deposit2 = Deposit(apy, 50, t_delta) \n",
    "sub_withdraw2 = Withdraw(apy, 25, 0)\n",
    "sub_deposit2 = Deposit(apy, 25, t_delta)\n",
    "withdraw2 = Withdraw(apy, 25, 0) "
   ]
  },
  {
   "cell_type": "code",
   "execution_count": null,
   "id": "be3e84c6-f8a2-4ea3-8a0b-04c4495087c0",
   "metadata": {},
   "outputs": [],
   "source": [
    "# Deposit 50 SYS\n",
    "d_action4 = DepositAction(deposit2, SYS, USER1, SYS_mint1.get_id())\n",
    "\n",
    "# Swap 2500 SYS for DAI\n",
    "sub_w_action2 = WithdrawAction(sub_withdraw2, SYS, USER1, SYS_mint1.get_id())\n",
    "sub_d_action2 = DepositAction(sub_deposit2, DAI, USER1, DAI_mint1.get_id())\n",
    "s_action2 = SwapAction(sub_w_action2, sub_d_action2)\n",
    "\n",
    "# Withdraw DAI proceeds and 2500 SYS\n",
    "w_action5 = WithdrawChainAction(s_action2, DAI, USER1, DAI_mint1.get_id())\n",
    "w_action6 = WithdrawAction(withdraw2, SYS, USER1, SYS_mint1.get_id())\n",
    "\n",
    "# Deposit withdrawn DAI and SYS in LP\n",
    "d_action5 = LPDepositChainAction(w_action5, w_action6, SYS_DAI, USER1, SYS_DAI_LP_mint1.get_id())"
   ]
  },
  {
   "cell_type": "markdown",
   "id": "e2991ffc-ab71-438b-80ac-ba619c4a1c7c",
   "metadata": {},
   "source": [
    "### Populate event queue"
   ]
  },
  {
   "cell_type": "code",
   "execution_count": null,
   "id": "64c043fe-790c-4a4f-8f82-a17fe73d871d",
   "metadata": {},
   "outputs": [],
   "source": [
    "q = EventQueue()\n",
    "q.add_event(m_action1)\n",
    "q.add_event(m_action2)\n",
    "q.add_event(m_action3)\n",
    "q.add_event(m_action4)\n",
    "q.add_event(m_action5)\n",
    "q.add_event(m_action6)\n",
    "\n",
    "# Setup\n",
    "q.add_event(w_action1)\n",
    "q.add_event(w_action2)\n",
    "q.add_event(d_action1)"
   ]
  },
  {
   "cell_type": "code",
   "execution_count": null,
   "id": "6c614532-63fc-4b8d-a543-a8569dddc670",
   "metadata": {},
   "outputs": [],
   "source": [
    "for k in range(10):\n",
    "    \n",
    "    # Batchset #1\n",
    "    q.add_event(d_action2)    \n",
    "    q.add_event(s_action1)\n",
    "    q.add_event(w_action3)\n",
    "    q.add_event(w_action4)\n",
    "    q.add_event(d_action3)\n",
    "\n",
    "    # Batchset #2\n",
    "    q.add_event(d_action4)    \n",
    "    q.add_event(s_action2)\n",
    "    q.add_event(w_action5)\n",
    "    q.add_event(w_action6)\n",
    "    q.add_event(d_action5)"
   ]
  },
  {
   "cell_type": "markdown",
   "id": "85c30e52-48b2-4737-be8f-823ae33a2862",
   "metadata": {},
   "source": [
    "### Execute events"
   ]
  },
  {
   "cell_type": "code",
   "execution_count": null,
   "id": "40428bc0-0452-45ca-ad48-cf70f2ac8d74",
   "metadata": {},
   "outputs": [],
   "source": [
    "orchestrator = SimulationOrchestrator(verbose = True)\n",
    "executor = EventExecutor(q, orchestrator)\n",
    "executor.run()"
   ]
  },
  {
   "cell_type": "markdown",
   "id": "c7a99fa1-34de-48db-8324-d9f5b4cac435",
   "metadata": {},
   "source": [
    "### Analyze"
   ]
  },
  {
   "cell_type": "code",
   "execution_count": null,
   "id": "f6f4d597-43f5-4199-bff4-f7a4ee75aa20",
   "metadata": {},
   "outputs": [],
   "source": [
    "tSYS = SYS.get_token()\n",
    "tDAI = DAI.get_token()\n",
    "tSYS_DAI = SYS_DAI.get_token()\n",
    "\n",
    "SYS_addr1 = SYS.get_address(SYS_mint1.get_id())\n",
    "DAI_addr1 = DAI.get_address(DAI_mint1.get_id())\n",
    "SYS_DAI_addr1 = SYS_DAI.get_address(SYS_DAI_LP_mint1.get_id())"
   ]
  },
  {
   "cell_type": "code",
   "execution_count": null,
   "id": "57cb7e7e-878c-4a54-a2b9-35b5cc980bd6",
   "metadata": {},
   "outputs": [],
   "source": [
    "SYS_states1 = tSYS.get_state_series(SYS_addr1)\n",
    "principle = SYS_states1.get_principle() \n",
    "balance = SYS_states1.get_balance() \n",
    "tSamp = SYS_states1.get_tstamp()  \n",
    "\n",
    "fig, (SYS_ax, DAI_ax, SYS_DAI_ax) = plt.subplots(nrows=3, sharex=True, sharey=False, figsize=(18, 15))\n",
    "\n",
    "SYS_ax.plot(tSamp[1:], balance[1:], label='balance') \n",
    "SYS_ax.plot(tSamp[1:], principle[1:], label='principle') \n",
    "SYS_ax.set_title(\"USER1: SYS Balance (rebasing token)\", fontsize=20)\n",
    "SYS_ax.set_ylabel(\"Token balance (SYS)\", fontsize=16)\n",
    "SYS_ax.set_xlabel('Time', fontsize=16)\n",
    "SYS_ax.legend()\n",
    "\n",
    "DAI_states1 = tDAI.get_state_series(DAI_addr1)\n",
    "principle = DAI_states1.get_principle() \n",
    "balance = DAI_states1.get_balance() \n",
    "tSamp = DAI_states1.get_tstamp() \n",
    "\n",
    "DAI_ax.plot(tSamp[1:], balance[1:], label='balance') \n",
    "DAI_ax.plot(tSamp[1:], principle[1:], label='principle') \n",
    "DAI_ax.set_title(\"USER1: DAI Balance (rebasing token)\", fontsize=20)\n",
    "DAI_ax.set_ylabel(\"Token balance (SYS)\", fontsize=16)\n",
    "DAI_ax.set_xlabel('Time', fontsize=16)\n",
    "DAI_ax.legend()\n",
    "\n",
    "SYS_DAI_states1 = tSYS_DAI.get_state_series(SYS_DAI_addr1)\n",
    "principle = SYS_DAI_states1.get_principle() \n",
    "balance = SYS_DAI_states1.get_balance() \n",
    "tSamp = SYS_DAI_states1.get_tstamp() \n",
    "\n",
    "SYS_DAI_ax.plot(tSamp[1:], balance[1:], label='balance') \n",
    "SYS_DAI_ax.plot(tSamp[1:], principle[1:], label='principle') \n",
    "SYS_DAI_ax.set_title(\"USER1: SYS_DAI_LP Balance (rebasing token)\", fontsize=20)\n",
    "SYS_DAI_ax.set_ylabel(\"Token balance\", fontsize=16)\n",
    "SYS_DAI_ax.set_xlabel('Time', fontsize=16)\n",
    "SYS_DAI_ax.legend()"
   ]
  },
  {
   "cell_type": "code",
   "execution_count": null,
   "id": "b5d944da-17b0-40cf-abb2-afd35ee14c1a",
   "metadata": {},
   "outputs": [],
   "source": [
    "SYS_addr2 = SYS.get_address(SYS_mint2.get_id())\n",
    "DAI_addr2 = DAI.get_address(DAI_mint2.get_id())\n",
    "SYS_DAI_addr2 = SYS_DAI.get_address(SYS_DAI_LP_mint2.get_id())"
   ]
  },
  {
   "cell_type": "code",
   "execution_count": null,
   "id": "78983e61-490c-4dfe-a63e-c51e96cc1f26",
   "metadata": {},
   "outputs": [],
   "source": [
    "SYS_DAI_states2 = tSYS_DAI.get_state_series(SYS_DAI_addr2)\n",
    "principle = SYS_DAI_states2.get_principle() \n",
    "balance = SYS_DAI_states2.get_balance() \n",
    "tSamp = SYS_DAI_states2.get_tstamp() "
   ]
  },
  {
   "cell_type": "code",
   "execution_count": null,
   "id": "b9f74b07-1915-4324-a749-7eb2ea037ef8",
   "metadata": {},
   "outputs": [],
   "source": [
    "# Analyze Token balances\n",
    "\n",
    "SYS_states2 = tSYS.get_state_series(SYS_addr2)\n",
    "principle = SYS_states2.get_principle() \n",
    "balance = SYS_states2.get_balance() \n",
    "tSamp = SYS_states2.get_tstamp()  \n",
    "\n",
    "fig, (SYS_ax, DAI_ax, SYS_DAI_ax) = plt.subplots(nrows=3, sharex=True, sharey=False, figsize=(18, 15))\n",
    "\n",
    "SYS_ax.plot(tSamp, balance, label='balance') \n",
    "SYS_ax.plot(tSamp, principle, label='principle') \n",
    "SYS_ax.set_title(\"USER2: SYS Balance (rebasing token)\", fontsize=20)\n",
    "SYS_ax.set_ylabel(\"Token balance (SYS)\", fontsize=16)\n",
    "SYS_ax.set_xlabel('Time', fontsize=16)\n",
    "SYS_ax.legend()\n",
    "\n",
    "DAI_states2 = tDAI.get_state_series(DAI_addr2)\n",
    "principle = DAI_states2.get_principle() \n",
    "balance = DAI_states2.get_balance() \n",
    "tSamp = DAI_states2.get_tstamp() \n",
    "\n",
    "DAI_ax.plot(tSamp[1:], balance[1:], label='balance') \n",
    "DAI_ax.plot(tSamp[1:], principle[1:], label='principle') \n",
    "DAI_ax.set_title(\"USER2: DAI Balance (rebasing token)\", fontsize=20)\n",
    "DAI_ax.set_ylabel(\"Token balance (SYS)\", fontsize=16)\n",
    "DAI_ax.set_xlabel('Time', fontsize=16)\n",
    "DAI_ax.legend()\n",
    "\n",
    "SYS_DAI_states2 = tSYS_DAI.get_state_series(SYS_DAI_addr2)\n",
    "principle = SYS_DAI_states2.get_principle() \n",
    "balance = SYS_DAI_states2.get_balance() \n",
    "tSamp = SYS_DAI_states2.get_tstamp() \n",
    "\n",
    "SYS_DAI_ax.plot(tSamp[1:], balance[1:], label='balance') \n",
    "SYS_DAI_ax.plot(tSamp[1:], principle[1:], label='principle') \n",
    "SYS_DAI_ax.set_title(\"USER1: SYS_DAI_LP Balance (rebasing token)\", fontsize=20)\n",
    "SYS_DAI_ax.set_ylabel(\"Token balance\", fontsize=16)\n",
    "SYS_DAI_ax.set_xlabel('Time', fontsize=16)\n",
    "SYS_DAI_ax.legend()"
   ]
  },
  {
   "cell_type": "code",
   "execution_count": null,
   "id": "c21c2c82-a769-4da8-99ca-c8ec62efa0c3",
   "metadata": {},
   "outputs": [],
   "source": [
    "tSamp = SYS_DAI_LP.get_lp_events().get_dates()\n",
    "utSamp = SYS_DAI_LP.get_lp_events().get_unix_time_stamps()\n",
    "prices = SYS_DAI_LP.get_lp_events().get_prices()\n",
    "liquidities = SYS_DAI_LP.get_lp_events().get_liquidity_values()\n",
    "balances = SYS_DAI_LP.get_lp_events().gen_yield_balances(apy)\n",
    "\n",
    "fig, (liq_ax) = plt.subplots(nrows=1, sharex=True, sharey=False, figsize=(18, 15))\n",
    "\n",
    "liq_ax.plot(tSamp, liquidities, label='liquidities') \n",
    "liq_ax.plot(tSamp, balances, label='liquidities') \n",
    "liq_ax.set_title(\"Total SYS_DAI_LP Balance (rebasing token)\", fontsize=20)\n",
    "liq_ax.set_ylabel(\"Token balance\", fontsize=16)\n",
    "liq_ax.set_xlabel('Time', fontsize=16)\n",
    "liq_ax.legend()"
   ]
  }
 ],
 "metadata": {
  "kernelspec": {
   "display_name": "Python 3 (ipykernel)",
   "language": "python",
   "name": "python3"
  },
  "language_info": {
   "codemirror_mode": {
    "name": "ipython",
    "version": 3
   },
   "file_extension": ".py",
   "mimetype": "text/x-python",
   "name": "python",
   "nbconvert_exporter": "python",
   "pygments_lexer": "ipython3",
   "version": "3.9.7"
  }
 },
 "nbformat": 4,
 "nbformat_minor": 5
}
