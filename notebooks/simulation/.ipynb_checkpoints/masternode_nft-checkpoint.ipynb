{
 "cells": [
  {
   "cell_type": "markdown",
   "id": "5f5b4224-655e-4a81-b918-715b4c9c623e",
   "metadata": {},
   "source": [
    "### Masternode NFT"
   ]
  },
  {
   "cell_type": "code",
   "execution_count": 1,
   "id": "2f8e2b86-aaca-4f8f-b4ad-f8d5fb9e60c2",
   "metadata": {},
   "outputs": [],
   "source": [
    "import os\n",
    "import copy\n",
    "import numpy as np\n",
    "import time\n",
    "import matplotlib.pyplot as plt\n",
    "cwd =  os.getcwd().replace(\"notebooks/simulation\",\"\")\n",
    "os.chdir(cwd)\n",
    "\n",
    "from python.dev.helper import Helper\n",
    "\n",
    "from python.dev.simulation import SimulationOrchestrator\n",
    "from python.dev.simulation import EventQueue\n",
    "from python.dev.simulation import EventExecutor\n",
    "\n",
    "from python.dev.agent import TokenAgent\n",
    "from python.dev.agent import LPTokenAgent\n",
    "from python.dev.agent import UserAgent\n",
    "\n",
    "from python.dev.action import LPXDepositAction\n",
    "from python.dev.action import LPYDepositAction\n",
    "from python.dev.action import MintAction\n",
    "from python.dev.action import DepositAction\n",
    "from python.dev.action import LPDepositAction\n",
    "from python.dev.action import WithdrawAction\n",
    "from python.dev.action import SwapAction\n",
    "from python.dev.event import Mint\n",
    "from python.dev.event import Deposit\n",
    "from python.dev.event import Withdraw\n",
    "from python.dev.event import Swap\n",
    "\n",
    "from python.dev.simulation.batch import WithdrawBatch\n",
    "from python.dev.simulation.batch import DepositBatch\n",
    "from python.dev.simulation.batch import LPDepositBatch\n",
    "from python.dev.simulation.batch import SwapBatch\n",
    "from python.dev.simulation.batch.set import BatchSet\n",
    "\n",
    "from python.dev.math.model import TokenDeltaModel\n",
    "from python.dev.math.model import TimeDeltaModel\n",
    "\n",
    "from python.dev.lp import LiquidityPool\n",
    "from python.dev.lp.event import LPEvent\n",
    "from python.dev.lp.event import MintLPEvent\n",
    "from python.dev.lp.event import DepositLPEvent\n",
    "from python.dev.lp.event import SwapLPEvent"
   ]
  },
  {
   "cell_type": "markdown",
   "id": "3aab447f-26a9-4898-a04c-cf99a6141c0b",
   "metadata": {},
   "source": [
    "### Initialize Agents"
   ]
  },
  {
   "cell_type": "code",
   "execution_count": 2,
   "id": "ed4d1a6d-d638-4939-a5fc-1234f9e0453d",
   "metadata": {},
   "outputs": [],
   "source": [
    "USER1 = UserAgent('USER1')\n",
    "SYS = TokenAgent('SYS')\n",
    "DAI = TokenAgent('DAI')\n",
    "USER2 = UserAgent('USER2')\n",
    "\n",
    "SYS_DAI_LP = LiquidityPool('SYS/DAI', USER1, SYS, DAI)\n",
    "SYS_DAI = LPTokenAgent('SYS_DAI_LP', SYS_DAI_LP)"
   ]
  },
  {
   "cell_type": "markdown",
   "id": "db4de42f-cfce-4221-8bb1-e83ab284d4fa",
   "metadata": {},
   "source": [
    "### Mint"
   ]
  },
  {
   "cell_type": "code",
   "execution_count": 3,
   "id": "fb378031-440b-4c1a-8dde-3bb26646af5e",
   "metadata": {},
   "outputs": [],
   "source": [
    "apy = 0.1"
   ]
  },
  {
   "cell_type": "code",
   "execution_count": 4,
   "id": "553291de-2411-42cf-95ed-b251a116f019",
   "metadata": {},
   "outputs": [],
   "source": [
    "SYS_mint1 = Mint(5000, apy, True)\n",
    "DAI_mint1 = Mint(5000, apy, True)\n",
    "SYS_DAI_LP_mint1 = Mint(0, apy, True)\n",
    "\n",
    "SYS_mint2 = Mint(100000, apy, True)\n",
    "DAI_mint2 = Mint(0, apy, True)\n",
    "SYS_DAI_LP_mint2 = Mint(0, apy, True)"
   ]
  },
  {
   "cell_type": "code",
   "execution_count": 5,
   "id": "891ac1fc-a587-46bc-88ae-f59bfe7152b4",
   "metadata": {},
   "outputs": [],
   "source": [
    "m_action1 = MintAction(SYS_mint1, SYS, USER1)\n",
    "m_action2 = MintAction(DAI_mint1, DAI, USER1)\n",
    "m_action3 = MintAction(SYS_DAI_LP_mint1, SYS_DAI, USER1)\n",
    "\n",
    "m_action4 = MintAction(SYS_mint2, SYS, USER2)\n",
    "m_action5 = MintAction(DAI_mint2, DAI, USER2)\n",
    "m_action6 = MintAction(SYS_DAI_LP_mint2, SYS_DAI, USER2)"
   ]
  },
  {
   "cell_type": "markdown",
   "id": "04946423-49d1-4594-a0d6-e689747219a4",
   "metadata": {},
   "source": [
    "### Actions"
   ]
  },
  {
   "cell_type": "code",
   "execution_count": 6,
   "id": "501d64f1-9e1c-4af8-9948-f5879aabf4b5",
   "metadata": {},
   "outputs": [],
   "source": [
    "sub_withdraw1 = Withdraw(apy, 1000, 0) \n",
    "sub_withdraw2 = Withdraw(apy, 1000, 0) "
   ]
  },
  {
   "cell_type": "code",
   "execution_count": 7,
   "id": "20920d6d-3929-4774-9314-a5ce2c098008",
   "metadata": {},
   "outputs": [],
   "source": [
    "sub_w_action1 = WithdrawAction(sub_withdraw1, SYS, USER1, SYS_mint1.get_id())\n",
    "d_action1 = LPDepositAction(sub_w_action1, SYS_DAI, USER1, SYS_DAI_LP_mint1.get_id())\n",
    "\n",
    "sub_w_action2 = WithdrawAction(sub_withdraw2, DAI, USER1, DAI_mint1.get_id())\n",
    "d_action2 = LPDepositAction(sub_w_action2, SYS_DAI, USER1, SYS_DAI_LP_mint1.get_id())"
   ]
  },
  {
   "cell_type": "markdown",
   "id": "636f54d8-8e35-4d3a-a2d6-f6df2136e8e4",
   "metadata": {},
   "source": [
    "### Batchset"
   ]
  },
  {
   "cell_type": "code",
   "execution_count": 8,
   "id": "9c5b168b-3db2-48e0-9c73-6126e9af2549",
   "metadata": {},
   "outputs": [],
   "source": [
    "t_delta = 109*3600"
   ]
  },
  {
   "cell_type": "code",
   "execution_count": 9,
   "id": "05cdbeaa-10aa-4548-bac4-f35624896286",
   "metadata": {},
   "outputs": [],
   "source": [
    "deposit4 = Deposit(apy, 5000, t_delta) # \n",
    "sub_withdraw1 = Withdraw(apy, 2500, t_delta)\n",
    "sub_deposit1 = Deposit(apy, 2500, t_delta)\n",
    "\n",
    "deposit5 = Deposit(apy, 50, t_delta)\n",
    "sub_withdraw2 = Withdraw(apy, 25, t_delta)\n",
    "sub_deposit2 = Deposit(apy, 25, t_delta)"
   ]
  },
  {
   "cell_type": "code",
   "execution_count": 10,
   "id": "3f6e3ec4-1f0e-4ccd-b518-8389c066de37",
   "metadata": {},
   "outputs": [],
   "source": [
    "d_action4 = DepositAction(deposit4, SYS, USER2)\n",
    "sub_w_action1 = WithdrawAction(sub_withdraw1, SYS, USER2)\n",
    "sub_d_action1 = DepositAction(sub_deposit1, DAI, USER2)\n",
    "s_action1 = SwapAction(sub_w_action1, sub_d_action1)\n",
    "\n",
    "d_action5 = DepositAction(deposit5, DAI, USER1)\n",
    "sub_w_action1 = WithdrawAction(sub_withdraw2, DAI, USER1)\n",
    "sub_d_action1 = DepositAction(sub_deposit2, SYS, USER1)\n",
    "s_action2 = SwapAction(sub_w_action1, sub_d_action1)"
   ]
  },
  {
   "cell_type": "markdown",
   "id": "e2991ffc-ab71-438b-80ac-ba619c4a1c7c",
   "metadata": {},
   "source": [
    "### Run event queue"
   ]
  },
  {
   "cell_type": "code",
   "execution_count": 11,
   "id": "64c043fe-790c-4a4f-8f82-a17fe73d871d",
   "metadata": {},
   "outputs": [],
   "source": [
    "q = EventQueue()\n",
    "q.add_event(m_action1)\n",
    "q.add_event(m_action2)\n",
    "q.add_event(m_action3)\n",
    "q.add_event(m_action4)\n",
    "q.add_event(m_action5)\n",
    "q.add_event(m_action6)\n",
    "\n",
    "q.add_event(d_action1)\n",
    "q.add_event(d_action2)"
   ]
  },
  {
   "cell_type": "code",
   "execution_count": 12,
   "id": "40428bc0-0452-45ca-ad48-cf70f2ac8d74",
   "metadata": {},
   "outputs": [
    {
     "name": "stdout",
     "output_type": "stream",
     "text": [
      "type MINT name SYS delta 5000\n",
      "type MINT name DAI delta 5000\n",
      "type MINT name SYS_DAI_LP delta 0\n",
      "type MINT name SYS delta 100000\n",
      "type MINT name DAI delta 0\n",
      "type MINT name SYS_DAI_LP delta 0\n",
      "type DEPOSIT name SYS_DAI_LP delta -1000\n",
      "type DEPOSIT name SYS_DAI_LP delta -1000\n",
      "type DEPOSIT name SYS_DAI_LP delta -1000\n",
      "type DEPOSIT name SYS_DAI_LP delta -1000\n"
     ]
    }
   ],
   "source": [
    "orchestrator = SimulationOrchestrator(verbose = True)\n",
    "#orchestrator.add_liquidity_pool(SYS_DAI_LP)\n",
    "\n",
    "executor = EventExecutor(q, orchestrator)\n",
    "executor.run()"
   ]
  },
  {
   "cell_type": "code",
   "execution_count": 13,
   "id": "f6f4d597-43f5-4199-bff4-f7a4ee75aa20",
   "metadata": {},
   "outputs": [],
   "source": [
    "tSYS = SYS.get_token()\n",
    "tDAI = DAI.get_token()\n",
    "tSYS_DAI = SYS_DAI.get_token()\n",
    "\n",
    "SYS_addr1 = SYS.get_address(SYS_mint1.get_id())\n",
    "DAI_addr1 = DAI.get_address(DAI_mint1.get_id())\n",
    "SYS_DAI_addr1 = SYS_DAI.get_address(SYS_DAI_LP_mint1.get_id())"
   ]
  },
  {
   "cell_type": "code",
   "execution_count": 14,
   "id": "e9d5107e-11a3-4e57-80a6-0d5b129b1991",
   "metadata": {},
   "outputs": [],
   "source": [
    "SYS_states1 = tSYS.get_state_series(SYS_addr1)\n",
    "DAI_states1 = tDAI.get_state_series(DAI_addr1)\n",
    "SYS_DAI_states1 = tSYS_DAI.get_state_series(SYS_DAI_addr1)"
   ]
  },
  {
   "cell_type": "code",
   "execution_count": 15,
   "id": "24621535-e597-42be-8fb5-a439abe03e34",
   "metadata": {},
   "outputs": [
    {
     "data": {
      "text/plain": [
       "[5000, 4000, 3000]"
      ]
     },
     "execution_count": 15,
     "metadata": {},
     "output_type": "execute_result"
    }
   ],
   "source": [
    "SYS_states1.get_principle() "
   ]
  },
  {
   "cell_type": "code",
   "execution_count": 16,
   "id": "df1c4ffd-cfaa-47d6-91de-7692e383edd6",
   "metadata": {},
   "outputs": [
    {
     "data": {
      "text/plain": [
       "[5000, 4000, 3000]"
      ]
     },
     "execution_count": 16,
     "metadata": {},
     "output_type": "execute_result"
    }
   ],
   "source": [
    "DAI_states1.get_principle() "
   ]
  },
  {
   "cell_type": "code",
   "execution_count": 17,
   "id": "82690a11-1514-4a40-af4f-474c8bbf012a",
   "metadata": {},
   "outputs": [
    {
     "data": {
      "text/plain": [
       "[0, 0.0, 1000.0, 1414.213562373095, 2000.0]"
      ]
     },
     "execution_count": 17,
     "metadata": {},
     "output_type": "execute_result"
    }
   ],
   "source": [
    "SYS_DAI_states1.get_principle() "
   ]
  }
 ],
 "metadata": {
  "kernelspec": {
   "display_name": "Python 3 (ipykernel)",
   "language": "python",
   "name": "python3"
  },
  "language_info": {
   "codemirror_mode": {
    "name": "ipython",
    "version": 3
   },
   "file_extension": ".py",
   "mimetype": "text/x-python",
   "name": "python",
   "nbconvert_exporter": "python",
   "pygments_lexer": "ipython3",
   "version": "3.9.7"
  }
 },
 "nbformat": 4,
 "nbformat_minor": 5
}
