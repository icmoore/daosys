{
 "cells": [
  {
   "cell_type": "markdown",
   "id": "5f5b4224-655e-4a81-b918-715b4c9c623e",
   "metadata": {},
   "source": [
    "### Masternode NFT"
   ]
  },
  {
   "cell_type": "code",
   "execution_count": 1,
   "id": "2f8e2b86-aaca-4f8f-b4ad-f8d5fb9e60c2",
   "metadata": {},
   "outputs": [],
   "source": [
    "import os\n",
    "import copy\n",
    "import numpy as np\n",
    "import time\n",
    "import matplotlib.pyplot as plt\n",
    "cwd =  os.getcwd().replace(\"notebooks/simulation\",\"\")\n",
    "os.chdir(cwd)\n",
    "\n",
    "from python.dev.helper import Helper\n",
    "\n",
    "from python.dev.simulation import SimulationOrchestrator\n",
    "from python.dev.simulation import EventQueue\n",
    "from python.dev.simulation import EventExecutor\n",
    "\n",
    "from python.dev.agent import TokenAgent\n",
    "from python.dev.agent import LPTokenAgent\n",
    "from python.dev.agent import UserAgent\n",
    "\n",
    "from python.dev.action import LPXDepositAction\n",
    "from python.dev.action import LPYDepositAction\n",
    "from python.dev.action import MintAction\n",
    "from python.dev.event import Mint\n",
    "from python.dev.event import Deposit\n",
    "\n",
    "from python.dev.simulation.batch import WithdrawBatch\n",
    "from python.dev.simulation.batch import DepositBatch\n",
    "from python.dev.simulation.batch import LPDepositBatch\n",
    "from python.dev.simulation.batch import SwapBatch\n",
    "from python.dev.simulation.batch.set import BatchSet\n",
    "\n",
    "from python.dev.math.model import TokenDeltaModel\n",
    "from python.dev.math.model import TimeDeltaModel\n",
    "\n",
    "from python.dev.lp import LiquidityPool\n",
    "from python.dev.lp.event import LPEvent\n",
    "from python.dev.lp.event import MintLPEvent\n",
    "from python.dev.lp.event import DepositLPEvent\n",
    "from python.dev.lp.event import SwapLPEvent"
   ]
  },
  {
   "cell_type": "markdown",
   "id": "3aab447f-26a9-4898-a04c-cf99a6141c0b",
   "metadata": {},
   "source": [
    "### Initialize Agents"
   ]
  },
  {
   "cell_type": "code",
   "execution_count": 2,
   "id": "ed4d1a6d-d638-4939-a5fc-1234f9e0453d",
   "metadata": {},
   "outputs": [],
   "source": [
    "USER1 = UserAgent('USER1')\n",
    "SYS = TokenAgent('SYS')\n",
    "DAI = TokenAgent('DAI')\n",
    "USER2 = UserAgent('USER2')\n",
    "\n",
    "SYS_DAI_LP = LiquidityPool('SYS/DAI', USER1, SYS, DAI)\n",
    "SYS_DAI = LPTokenAgent('SYS_DAI_LP', SYS_DAI_LP)"
   ]
  },
  {
   "cell_type": "markdown",
   "id": "db4de42f-cfce-4221-8bb1-e83ab284d4fa",
   "metadata": {},
   "source": [
    "### Mint"
   ]
  },
  {
   "cell_type": "code",
   "execution_count": 3,
   "id": "fb378031-440b-4c1a-8dde-3bb26646af5e",
   "metadata": {},
   "outputs": [],
   "source": [
    "apy = 0.1"
   ]
  },
  {
   "cell_type": "code",
   "execution_count": 4,
   "id": "553291de-2411-42cf-95ed-b251a116f019",
   "metadata": {},
   "outputs": [],
   "source": [
    "SYS_mint1 = Mint(5000, apy, False)\n",
    "DAI_mint1 = Mint(5000, apy, True)\n",
    "SYS_DAI_LP_mint1 = Mint(0, apy, True)\n",
    "SYS_mint2 = Mint(100000, apy, False)\n",
    "DAI_mint2 = Mint(0, apy, True)\n",
    "SYS_DAI_LP_mint2 = Mint(0, apy, True)"
   ]
  },
  {
   "cell_type": "markdown",
   "id": "04946423-49d1-4594-a0d6-e689747219a4",
   "metadata": {},
   "source": [
    "### Actions"
   ]
  },
  {
   "cell_type": "code",
   "execution_count": 5,
   "id": "501d64f1-9e1c-4af8-9948-f5879aabf4b5",
   "metadata": {},
   "outputs": [],
   "source": [
    "deposit_event1 = Deposit(apy, 5000, 0)\n",
    "deposit_event2 = Deposit(apy, 5000, 0)"
   ]
  },
  {
   "cell_type": "code",
   "execution_count": 6,
   "id": "74d89777-2628-4e89-a178-fbaa47aec191",
   "metadata": {},
   "outputs": [],
   "source": [
    "deposit_action1 = LPXDepositAction(deposit_event1, SYS_DAI, USER1)\n",
    "deposit_action2 = LPYDepositAction(deposit_event2, SYS_DAI, USER1) "
   ]
  },
  {
   "cell_type": "markdown",
   "id": "636f54d8-8e35-4d3a-a2d6-f6df2136e8e4",
   "metadata": {},
   "source": [
    "### Batchset"
   ]
  }
 ],
 "metadata": {
  "kernelspec": {
   "display_name": "Python 3 (ipykernel)",
   "language": "python",
   "name": "python3"
  },
  "language_info": {
   "codemirror_mode": {
    "name": "ipython",
    "version": 3
   },
   "file_extension": ".py",
   "mimetype": "text/x-python",
   "name": "python",
   "nbconvert_exporter": "python",
   "pygments_lexer": "ipython3",
   "version": "3.9.7"
  }
 },
 "nbformat": 4,
 "nbformat_minor": 5
}
