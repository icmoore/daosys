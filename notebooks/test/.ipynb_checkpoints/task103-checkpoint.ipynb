{
 "cells": [
  {
   "cell_type": "markdown",
   "id": "1a0005ae-82a2-4e59-825a-cda298313069",
   "metadata": {},
   "source": [
    "### Task 103: Integrate interest APS calculation from CPT liquidity pool in Rebasing token\n",
    "\n",
    "* Make the the APS source configurable. The CPT pool being used to calculate the interest APS should be configurable for any CPT in the simulation.\n",
    "\n",
    "* Being able to process only one source is sufficient. End goal is to be able to proportionally aggregate the interest APS from several sources. For example, the TCT may rebase using the supplies of T1 and T2 managed by the vault, including the interest rates for liquidity containing those assets. This may be a single pool that contains both tokens, and/or pools that contain only one of the assets.\n"
   ]
  },
  {
   "cell_type": "code",
   "execution_count": 1,
   "id": "daf6a761-4b2e-4589-8c76-65485b47fec8",
   "metadata": {},
   "outputs": [],
   "source": [
    "import os\n",
    "import copy\n",
    "import numpy as np\n",
    "import time\n",
    "import math\n",
    "import matplotlib.pyplot as plt\n",
    "cwd =  os.getcwd().replace(\"notebooks/test\",\"\")\n",
    "os.chdir(cwd)\n",
    "\n",
    "from python.dev.event import Deposit\n",
    "from python.dev.event import Withdraw\n",
    "from python.dev.cpt import Liquidity\n",
    "from python.dev.token import RebaseToken\n",
    "from python.dev.math.model import TimeDeltaModel\n",
    "from python.dev.math.model import TokenDeltaModel\n",
    "from python.dev.math.interest.ips import ConstantIPS\n",
    "from python.dev.math.interest.ips.aggregate import AggregateIPS\n",
    "from python.dev.math.interest import CompoundReturn"
   ]
  },
  {
   "cell_type": "code",
   "execution_count": 2,
   "id": "7b47253d-908b-402b-b11f-b42bf9bb1e56",
   "metadata": {},
   "outputs": [],
   "source": [
    "N_TOKENS = 2"
   ]
  },
  {
   "cell_type": "markdown",
   "id": "02f24983-d588-4c8a-af45-6b5caab376fb",
   "metadata": {},
   "source": [
    "### Part A: Test IPS"
   ]
  },
  {
   "cell_type": "code",
   "execution_count": 3,
   "id": "282498fb-c44b-42e7-8bd2-441305aa9807",
   "metadata": {},
   "outputs": [],
   "source": [
    "APY = 0.1234567\n",
    "TYPE_DEPOSIT_TOKEN = 'DEPOSIT'\n",
    "A0 = 10000\n",
    "token_delta = 1000\n",
    "time_delta = 1000\n",
    "\n",
    "token = RebaseToken(TYPE_DEPOSIT_TOKEN)\n",
    "addr = token.mint(A0, APY)\n",
    "\n",
    "token.add_event(Deposit(APY, token_delta, time_delta, addr))\n",
    "token.add_event(Deposit(APY, token_delta, time_delta, addr))\n",
    "token.add_event(Deposit(APY, token_delta, time_delta, addr))\n",
    "\n",
    "last_state = token.get_state_series(addr).get_last_state()\n",
    "\n",
    "cIPS = ConstantIPS()\n",
    "ips = cIPS.calc_ips_from_state(last_state)"
   ]
  },
  {
   "cell_type": "code",
   "execution_count": 4,
   "id": "144a431f-e119-4cec-813a-35df11ee8787",
   "metadata": {},
   "outputs": [
    {
     "name": "stdout",
     "output_type": "stream",
     "text": [
      "Test 1: annual return 11234.567 -> pass True\n"
     ]
    }
   ],
   "source": [
    "cReturn = CompoundReturn()\n",
    "r = cReturn.apply(A0,ConstantIPS.SECONDS_YEAR,ips)\n",
    "print('Test 1: annual return {} -> pass {}'.format(r, r == A0*(APY+1)))"
   ]
  },
  {
   "cell_type": "markdown",
   "id": "3955d171-85d7-4945-ad93-714baed00c85",
   "metadata": {},
   "source": [
    "### Part B: Liquidity Pool Simulation Run\n",
    "* Initialize Rebasing/Rebasing Tokens"
   ]
  },
  {
   "cell_type": "code",
   "execution_count": 5,
   "id": "c5ef2530-24b2-4793-801b-ddf6856d80e2",
   "metadata": {},
   "outputs": [],
   "source": [
    "APY = 0.1\n",
    "TYPE_DEPOSIT_TOKEN = 'DEPOSIT'\n",
    "TOKEN = N_TOKENS * [None]\n",
    "ADDR = N_TOKENS * [None]\n",
    "init_deposit = 10000 \n",
    "\n",
    "TOKEN[0] = RebaseToken(TYPE_DEPOSIT_TOKEN)\n",
    "ADDR[0] = TOKEN[0].mint(init_deposit, APY)\n",
    "\n",
    "TOKEN[1] = RebaseToken(TYPE_DEPOSIT_TOKEN)\n",
    "ADDR[1] = TOKEN[1].mint(init_deposit, APY)\n",
    "\n",
    "    \n",
    "x = TOKEN[0].get_balance_deposits()\n",
    "y = TOKEN[1].get_balance_deposits()\n",
    "\n",
    "# Initialize Liquidity Pool\n",
    "liq = Liquidity(x,y, 'TI', 'TCT1')"
   ]
  },
  {
   "cell_type": "markdown",
   "id": "b25c6ddb-e9cc-47c3-8802-570b78dfda09",
   "metadata": {},
   "source": [
    "* simulate liquidity pool"
   ]
  },
  {
   "cell_type": "code",
   "execution_count": 6,
   "id": "df612c8b-ece5-48a3-947f-b369ffbba8e2",
   "metadata": {},
   "outputs": [
    {
     "name": "stdout",
     "output_type": "stream",
     "text": [
      "[SIM 0] T1: 10019.72 T2: 10128.51\n",
      "[SIM 50] T1: 13793.38 T2: 14787.88\n",
      "[SIM 100] T1: 18002.26 T2: 19677.16\n",
      "[SIM 150] T1: 24519.65 T2: 26825.97\n",
      "[SIM 200] T1: 30860.81 T2: 32713.87\n"
     ]
    }
   ],
   "source": [
    "percent = 0.05\n",
    "N = 250\n",
    "prices_yx = N * [0]\n",
    "prices_xy = N * [0]\n",
    "\n",
    "for k in range(N):\n",
    "\n",
    "    token_delta = TokenDeltaModel(1,100).apply() \n",
    "    time_delta = TimeDeltaModel().apply() \n",
    "    TOKEN[0].add_event(Deposit(APY, token_delta, time_delta, ADDR[0]))\n",
    "\n",
    "    token_delta = TokenDeltaModel(1,100).apply() \n",
    "    time_delta = TimeDeltaModel().apply() \n",
    "    TOKEN[1].add_event(Deposit(APY, token_delta, time_delta, ADDR[1]))        \n",
    "        \n",
    "    T1_yield = TOKEN[0].get_state_series(ADDR[0]).get_last_state().get_yield()\n",
    "    T2_yield = TOKEN[1].get_state_series(ADDR[1]).get_last_state().get_yield()\n",
    "    \n",
    "    T1_delta = TOKEN[0].get_state_series(ADDR[0]).get_last_state().get_delta()\n",
    "    T2_delta = TOKEN[1].get_state_series(ADDR[1]).get_last_state().get_delta()\n",
    "        \n",
    "    x = TOKEN[0].get_balance_deposits()\n",
    "    y = TOKEN[1].get_balance_deposits()\n",
    "\n",
    "    liq.add_delta_x(T1_delta+T1_yield)\n",
    "    liq.add_delta_y(T2_delta+T2_yield)     \n",
    "    L = liq.calc()\n",
    "    prices_yx[k] = liq.get_price(Liquidity.YX_PRICE)  \n",
    "    prices_xy[k] = liq.get_price(Liquidity.XY_PRICE)\n",
    "    \n",
    "    if (k % int(N/(100*percent)) == 0):\n",
    "        out_str = '[SIM {}]'.format(k)\n",
    "        for k in range(N_TOKENS):\n",
    "            amt = TOKEN[k].get_balance_deposits()\n",
    "            out_str = out_str+' T{}: {:.2f}'.format(k+1,amt)\n",
    "            \n",
    "        print(out_str) \n",
    "        "
   ]
  },
  {
   "cell_type": "markdown",
   "id": "9940dd83-9669-417f-a858-15e1314d2dc2",
   "metadata": {},
   "source": [
    "* aggregate interest per second (ips) from each token"
   ]
  },
  {
   "cell_type": "code",
   "execution_count": 7,
   "id": "6cb089f5-81ff-4d50-8d5f-3da883f76e74",
   "metadata": {},
   "outputs": [
    {
     "name": "stdout",
     "output_type": "stream",
     "text": [
      "The balance after investing 10000 into this pool over one year is 11000.0\n"
     ]
    }
   ],
   "source": [
    "T1_last_state = TOKEN[0].get_state_series(ADDR[0]).get_last_state()\n",
    "T2_last_state = TOKEN[1].get_state_series(ADDR[1]).get_last_state()\n",
    "\n",
    "aggr = AggregateIPS(ConstantIPS())\n",
    "ipsAggr = aggr.apply([T1_last_state, T2_last_state])\n",
    "\n",
    "cReturn = CompoundReturn()\n",
    "returnAggr = cReturn.apply(init_deposit, ConstantIPS.SECONDS_YEAR, ipsAggr)\n",
    "\n",
    "print('The balance after investing {} into this pool over one year is {}'.format(init_deposit, returnAggr))\n"
   ]
  }
 ],
 "metadata": {
  "kernelspec": {
   "display_name": "Python 3 (ipykernel)",
   "language": "python",
   "name": "python3"
  },
  "language_info": {
   "codemirror_mode": {
    "name": "ipython",
    "version": 3
   },
   "file_extension": ".py",
   "mimetype": "text/x-python",
   "name": "python",
   "nbconvert_exporter": "python",
   "pygments_lexer": "ipython3",
   "version": "3.9.7"
  }
 },
 "nbformat": 4,
 "nbformat_minor": 5
}
