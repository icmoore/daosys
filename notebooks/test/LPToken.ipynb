{
 "cells": [
  {
   "cell_type": "markdown",
   "id": "6cee6294-c4b4-4d95-adfb-87cbe975d0d5",
   "metadata": {},
   "source": [
    "### Task: Integrate LP Tokens\n",
    "* Create Rebasing/NonRebasing tokens out of Liquidity Pools"
   ]
  },
  {
   "cell_type": "code",
   "execution_count": 1,
   "id": "98f0df44-1d0e-4a5f-960b-33edeee4145d",
   "metadata": {},
   "outputs": [],
   "source": [
    "import os\n",
    "import copy\n",
    "import numpy as np\n",
    "import time\n",
    "import matplotlib.pyplot as plt\n",
    "cwd =  os.getcwd().replace(\"notebooks/test\",\"\")\n",
    "os.chdir(cwd)\n",
    "\n",
    "from python.dev.simulation import SimulationOrchestrator\n",
    "from python.dev.simulation import EventQueue\n",
    "from python.dev.simulation import EventExecutor\n",
    "\n",
    "from python.dev.agent import TokenAgent\n",
    "from python.dev.agent import LPTokenAgent\n",
    "from python.dev.agent import UserAgent\n",
    "\n",
    "from python.dev.action import MintAction\n",
    "from python.dev.event import Mint\n",
    "\n",
    "from python.dev.simulation.batch import WithdrawBatch\n",
    "from python.dev.simulation.batch import DepositBatch\n",
    "from python.dev.simulation.batch import LPDepositBatch\n",
    "from python.dev.simulation.batch import SwapBatch\n",
    "from python.dev.simulation.batch.set import BatchSet\n",
    "\n",
    "from python.dev.math.model import TokenDeltaModel\n",
    "from python.dev.math.model import TimeDeltaModel\n",
    "\n",
    "from python.dev.lp import LiquidityPool\n",
    "from python.dev.lp.event import LPEvent\n",
    "from python.dev.lp.event import MintLPEvent\n",
    "from python.dev.lp.event import DepositLPEvent\n",
    "from python.dev.lp.event import SwapLPEvent"
   ]
  },
  {
   "cell_type": "code",
   "execution_count": 2,
   "id": "ca8f0a8e-9741-460d-9a04-792134fa40b6",
   "metadata": {},
   "outputs": [],
   "source": [
    "apy = 0.123456\n",
    "user = UserAgent('sim_user')\n",
    "T1_agent = TokenAgent('T1')\n",
    "TCT1_agent = TokenAgent('TCT')\n",
    "\n",
    "lp1 = LiquidityPool('T1/TCT', user, T1_agent, TCT1_agent)\n",
    "LP1_agent = LPTokenAgent('LP1', lp1)"
   ]
  },
  {
   "cell_type": "code",
   "execution_count": 3,
   "id": "3dfe42d5-4e27-433a-8194-fded9f02e4d9",
   "metadata": {},
   "outputs": [],
   "source": [
    "n_events = 100\n",
    "token_deltas = TokenDeltaModel(1,100).apply(n_events) \n",
    "time_deltas = TimeDeltaModel().apply(n_events)"
   ]
  },
  {
   "cell_type": "code",
   "execution_count": 4,
   "id": "ed2bc0d6-ebda-4c1a-acab-138acb931d8a",
   "metadata": {},
   "outputs": [],
   "source": [
    "T1_mint = Mint(10000, apy, False)\n",
    "TCT1_mint = Mint(10000, apy, True)\n",
    "LP1_mint = Mint(0, apy, True)\n",
    "\n",
    "batch1 = DepositBatch(T1_agent, user, T1_mint)\n",
    "batch2 = DepositBatch(TCT1_agent, user, TCT1_mint)\n",
    "withdraw_sub_batch = WithdrawBatch(T1_agent, user, T1_mint)\n",
    "deposit_sub_batch = DepositBatch(TCT1_agent, user, TCT1_mint)\n",
    "batch3 = SwapBatch(withdraw_sub_batch, deposit_sub_batch)\n",
    "batch4 = LPDepositBatch(LP1_agent, user, LP1_mint)\n",
    "\n",
    "batch1.set_token_deltas(token_deltas)\n",
    "batch2.set_token_deltas(token_deltas)\n",
    "batch3.set_token_deltas(token_deltas)\n",
    "\n",
    "batch1.set_time_deltas(time_deltas)\n",
    "batch2.set_time_deltas(time_deltas)\n",
    "batch3.set_no_time_delay(True) \n",
    "batch4.set_time_deltas(time_deltas)"
   ]
  },
  {
   "cell_type": "code",
   "execution_count": 5,
   "id": "9b099a7c-8ec2-4dfa-b433-93a20de8b070",
   "metadata": {},
   "outputs": [
    {
     "name": "stdout",
     "output_type": "stream",
     "text": [
      "======== Batch Set Tasks ===========\n",
      "# name: batch_set_1\n",
      "# num_repeats: 100 \n",
      "\n",
      "[task 1] deposit_t1\n",
      "[task 2] deposit_tct1\n",
      "[task 3] swap_t1_tct1\n",
      "[task 4] deposit_t1_tct1_lp\n",
      "\n"
     ]
    }
   ],
   "source": [
    "batch_set1 = BatchSet('batch_set_1', True)\n",
    "batch_set1.add_batch(batch1, 'deposit_t1', )\n",
    "batch_set1.add_batch(batch2, 'deposit_tct1')\n",
    "batch_set1.add_batch(batch3, 'swap_t1_tct1')\n",
    "batch_set1.add_batch(batch4, 'deposit_t1_tct1_lp')\n",
    "\n",
    "sim_batch1 = batch_set1.generate_events(apy, n_events)"
   ]
  },
  {
   "cell_type": "code",
   "execution_count": 6,
   "id": "07bbd38b-38eb-4916-99b1-0b7dccba9783",
   "metadata": {},
   "outputs": [],
   "source": [
    "q = EventQueue()\n",
    "q.add_event(MintAction(T1_mint, T1_agent, user))\n",
    "q.add_event(MintAction(TCT1_mint, TCT1_agent, user))\n",
    "q.add_event(MintAction(LP1_mint, LP1_agent, user))\n",
    "q.add_event_batch(sim_batch1)"
   ]
  },
  {
   "cell_type": "code",
   "execution_count": 7,
   "id": "9902adf7-f663-499a-af4b-b26e465cfd1d",
   "metadata": {},
   "outputs": [
    {
     "ename": "NameError",
     "evalue": "name 'copy' is not defined",
     "output_type": "error",
     "traceback": [
      "\u001b[0;31m---------------------------------------------------------------------------\u001b[0m",
      "\u001b[0;31mNameError\u001b[0m                                 Traceback (most recent call last)",
      "\u001b[0;32m/var/folders/97/wcmz4r710pj20v_3cnvl09cm0000gn/T/ipykernel_10158/3537251655.py\u001b[0m in \u001b[0;36m<module>\u001b[0;34m\u001b[0m\n\u001b[1;32m      3\u001b[0m \u001b[0;34m\u001b[0m\u001b[0m\n\u001b[1;32m      4\u001b[0m \u001b[0mexecutor\u001b[0m \u001b[0;34m=\u001b[0m \u001b[0mEventExecutor\u001b[0m\u001b[0;34m(\u001b[0m\u001b[0mq\u001b[0m\u001b[0;34m,\u001b[0m \u001b[0morchestrator\u001b[0m\u001b[0;34m)\u001b[0m\u001b[0;34m\u001b[0m\u001b[0;34m\u001b[0m\u001b[0m\n\u001b[0;32m----> 5\u001b[0;31m \u001b[0mexecutor\u001b[0m\u001b[0;34m.\u001b[0m\u001b[0mrun\u001b[0m\u001b[0;34m(\u001b[0m\u001b[0;34m)\u001b[0m\u001b[0;34m\u001b[0m\u001b[0;34m\u001b[0m\u001b[0m\n\u001b[0m",
      "\u001b[0;32m~/repos/daosys/python/dev/simulation/EventExecutor.py\u001b[0m in \u001b[0;36mrun\u001b[0;34m(self)\u001b[0m\n\u001b[1;32m     14\u001b[0m         \u001b[0;32mwhile\u001b[0m\u001b[0;34m(\u001b[0m\u001b[0mprocess_queue\u001b[0m\u001b[0;34m)\u001b[0m\u001b[0;34m:\u001b[0m\u001b[0;34m\u001b[0m\u001b[0;34m\u001b[0m\u001b[0m\n\u001b[1;32m     15\u001b[0m             \u001b[0mevent\u001b[0m \u001b[0;34m=\u001b[0m \u001b[0mself\u001b[0m\u001b[0;34m.\u001b[0m\u001b[0m__queue\u001b[0m\u001b[0;34m.\u001b[0m\u001b[0mget_event\u001b[0m\u001b[0;34m(\u001b[0m\u001b[0;34m)\u001b[0m\u001b[0;34m\u001b[0m\u001b[0;34m\u001b[0m\u001b[0m\n\u001b[0;32m---> 16\u001b[0;31m             \u001b[0mevent_complete\u001b[0m \u001b[0;34m=\u001b[0m \u001b[0mself\u001b[0m\u001b[0;34m.\u001b[0m\u001b[0m__orchestrator\u001b[0m\u001b[0;34m.\u001b[0m\u001b[0mapply\u001b[0m\u001b[0;34m(\u001b[0m\u001b[0mevent\u001b[0m\u001b[0;34m)\u001b[0m\u001b[0;34m\u001b[0m\u001b[0;34m\u001b[0m\u001b[0m\n\u001b[0m\u001b[1;32m     17\u001b[0m             \u001b[0mprocess_queue\u001b[0m \u001b[0;34m=\u001b[0m \u001b[0mself\u001b[0m\u001b[0;34m.\u001b[0m\u001b[0m__queue\u001b[0m\u001b[0;34m.\u001b[0m\u001b[0mget_n_events\u001b[0m\u001b[0;34m(\u001b[0m\u001b[0;34m)\u001b[0m \u001b[0;34m!=\u001b[0m \u001b[0;36m0\u001b[0m \u001b[0;32mand\u001b[0m \u001b[0mevent_complete\u001b[0m\u001b[0;34m\u001b[0m\u001b[0;34m\u001b[0m\u001b[0m\n\u001b[1;32m     18\u001b[0m \u001b[0;34m\u001b[0m\u001b[0m\n",
      "\u001b[0;32m~/repos/daosys/python/dev/simulation/SimulationOrchestrator.py\u001b[0m in \u001b[0;36mapply\u001b[0;34m(self, action)\u001b[0m\n\u001b[1;32m     22\u001b[0m     \u001b[0;32mdef\u001b[0m \u001b[0mapply\u001b[0m\u001b[0;34m(\u001b[0m\u001b[0mself\u001b[0m\u001b[0;34m,\u001b[0m \u001b[0maction\u001b[0m\u001b[0;34m)\u001b[0m\u001b[0;34m:\u001b[0m\u001b[0;34m\u001b[0m\u001b[0;34m\u001b[0m\u001b[0m\n\u001b[1;32m     23\u001b[0m \u001b[0;34m\u001b[0m\u001b[0m\n\u001b[0;32m---> 24\u001b[0;31m         \u001b[0mis_complete\u001b[0m \u001b[0;34m=\u001b[0m \u001b[0maction\u001b[0m\u001b[0;34m.\u001b[0m\u001b[0mapply\u001b[0m\u001b[0;34m(\u001b[0m\u001b[0mself\u001b[0m\u001b[0;34m.\u001b[0m\u001b[0m__agents\u001b[0m\u001b[0;34m)\u001b[0m\u001b[0;34m\u001b[0m\u001b[0;34m\u001b[0m\u001b[0m\n\u001b[0m\u001b[1;32m     25\u001b[0m         \u001b[0;31m#self.__update_lp(action)\u001b[0m\u001b[0;34m\u001b[0m\u001b[0;34m\u001b[0m\u001b[0m\n\u001b[1;32m     26\u001b[0m         \u001b[0;32mif\u001b[0m\u001b[0;34m(\u001b[0m\u001b[0mself\u001b[0m\u001b[0;34m.\u001b[0m\u001b[0m__verbose\u001b[0m\u001b[0;34m)\u001b[0m\u001b[0;34m:\u001b[0m \u001b[0mself\u001b[0m\u001b[0;34m.\u001b[0m\u001b[0m__print_out\u001b[0m\u001b[0;34m(\u001b[0m\u001b[0maction\u001b[0m\u001b[0;34m)\u001b[0m\u001b[0;34m\u001b[0m\u001b[0;34m\u001b[0m\u001b[0m\n",
      "\u001b[0;32m~/repos/daosys/python/dev/action/DepositAction.py\u001b[0m in \u001b[0;36mapply\u001b[0;34m(self, agents)\u001b[0m\n\u001b[1;32m     15\u001b[0m         \u001b[0maddress\u001b[0m \u001b[0;34m=\u001b[0m \u001b[0mself\u001b[0m\u001b[0;34m.\u001b[0m\u001b[0m__target\u001b[0m\u001b[0;34m.\u001b[0m\u001b[0mget_address\u001b[0m\u001b[0;34m(\u001b[0m\u001b[0mself\u001b[0m\u001b[0;34m.\u001b[0m\u001b[0m__mint_id\u001b[0m\u001b[0;34m)\u001b[0m\u001b[0;34m\u001b[0m\u001b[0;34m\u001b[0m\u001b[0m\n\u001b[1;32m     16\u001b[0m         \u001b[0mself\u001b[0m\u001b[0;34m.\u001b[0m\u001b[0m__token_event\u001b[0m\u001b[0;34m.\u001b[0m\u001b[0mset_address\u001b[0m\u001b[0;34m(\u001b[0m\u001b[0maddress\u001b[0m\u001b[0;34m)\u001b[0m\u001b[0;34m\u001b[0m\u001b[0;34m\u001b[0m\u001b[0m\n\u001b[0;32m---> 17\u001b[0;31m         \u001b[0mtoken\u001b[0m\u001b[0;34m.\u001b[0m\u001b[0madd_event\u001b[0m\u001b[0;34m(\u001b[0m\u001b[0mself\u001b[0m\u001b[0;34m.\u001b[0m\u001b[0m__token_event\u001b[0m\u001b[0;34m)\u001b[0m\u001b[0;34m\u001b[0m\u001b[0;34m\u001b[0m\u001b[0m\n\u001b[0m\u001b[1;32m     18\u001b[0m         \u001b[0mself\u001b[0m\u001b[0;34m.\u001b[0m\u001b[0m__target\u001b[0m\u001b[0;34m.\u001b[0m\u001b[0mset_token\u001b[0m\u001b[0;34m(\u001b[0m\u001b[0mtoken\u001b[0m\u001b[0;34m)\u001b[0m\u001b[0;34m\u001b[0m\u001b[0;34m\u001b[0m\u001b[0m\n\u001b[1;32m     19\u001b[0m \u001b[0;34m\u001b[0m\u001b[0m\n",
      "\u001b[0;32m~/repos/daosys/python/dev/token/NonRebaseToken.py\u001b[0m in \u001b[0;36madd_event\u001b[0;34m(self, event)\u001b[0m\n\u001b[1;32m     42\u001b[0m         \u001b[0mtime_delta\u001b[0m \u001b[0;34m=\u001b[0m \u001b[0mevent\u001b[0m\u001b[0;34m.\u001b[0m\u001b[0mget_time_delta\u001b[0m\u001b[0;34m(\u001b[0m\u001b[0;34m)\u001b[0m\u001b[0;34m\u001b[0m\u001b[0;34m\u001b[0m\u001b[0m\n\u001b[1;32m     43\u001b[0m \u001b[0;34m\u001b[0m\u001b[0m\n\u001b[0;32m---> 44\u001b[0;31m         \u001b[0mstate\u001b[0m \u001b[0;34m=\u001b[0m \u001b[0mcopy\u001b[0m\u001b[0;34m.\u001b[0m\u001b[0mcopy\u001b[0m\u001b[0;34m(\u001b[0m\u001b[0mself\u001b[0m\u001b[0;34m.\u001b[0m\u001b[0m__state_map\u001b[0m\u001b[0;34m.\u001b[0m\u001b[0mget_states\u001b[0m\u001b[0;34m(\u001b[0m\u001b[0maddress\u001b[0m\u001b[0;34m)\u001b[0m\u001b[0;34m.\u001b[0m\u001b[0mget_last_state\u001b[0m\u001b[0;34m(\u001b[0m\u001b[0;34m)\u001b[0m\u001b[0;34m)\u001b[0m\u001b[0;34m\u001b[0m\u001b[0;34m\u001b[0m\u001b[0m\n\u001b[0m\u001b[1;32m     45\u001b[0m         \u001b[0mstate\u001b[0m\u001b[0;34m.\u001b[0m\u001b[0mupdate_event\u001b[0m\u001b[0;34m(\u001b[0m\u001b[0mevent\u001b[0m\u001b[0;34m)\u001b[0m\u001b[0;34m\u001b[0m\u001b[0;34m\u001b[0m\u001b[0m\n\u001b[1;32m     46\u001b[0m         \u001b[0maddresses\u001b[0m\u001b[0;34m.\u001b[0m\u001b[0mdelta_balance\u001b[0m\u001b[0;34m(\u001b[0m\u001b[0mdelta\u001b[0m\u001b[0;34m,\u001b[0m \u001b[0maddress\u001b[0m\u001b[0;34m)\u001b[0m\u001b[0;34m\u001b[0m\u001b[0;34m\u001b[0m\u001b[0m\n",
      "\u001b[0;31mNameError\u001b[0m: name 'copy' is not defined"
     ]
    }
   ],
   "source": [
    "orchestrator = SimulationOrchestrator(verbose = False)\n",
    "orchestrator.add_liquidity_pool(lp1)\n",
    "\n",
    "executor = EventExecutor(q, orchestrator)\n",
    "executor.run()"
   ]
  },
  {
   "cell_type": "markdown",
   "id": "974c416f-47fd-4174-8693-4e3337820a85",
   "metadata": {},
   "source": [
    "### Plot data"
   ]
  },
  {
   "cell_type": "code",
   "execution_count": null,
   "id": "2b3fa287-4ac6-4562-b51e-dd1d210ae32b",
   "metadata": {},
   "outputs": [],
   "source": [
    "T1 = T1_agent.get_token()\n",
    "TCT1 = TCT1_agent.get_token()\n",
    "LP1 = LP1_agent.get_token()\n",
    "\n",
    "t1_addr = T1_agent.get_address(T1_mint.get_id())\n",
    "tct_addr = TCT1_agent.get_address(TCT1_mint.get_id())\n",
    "lp1_addr = LP1_agent.get_address(LP1_mint.get_id())"
   ]
  },
  {
   "cell_type": "code",
   "execution_count": null,
   "id": "610c0ef1-a051-46d1-a818-a9940372d713",
   "metadata": {},
   "outputs": [],
   "source": [
    "# Analyze Token balances\n",
    "\n",
    "T1_states = T1.get_state_series(t1_addr)\n",
    "principle = T1_states.get_principle() \n",
    "balance = T1_states.get_balance() \n",
    "tSamp = T1_states.get_tstamp()  \n",
    "\n",
    "fig, (T1_ax, TCT1_ax, LP1_ax) = plt.subplots(nrows=3, sharex=True, sharey=False, figsize=(18, 15))\n",
    "\n",
    "T1_ax.plot(tSamp[1:], balance[1:], label='balance') \n",
    "T1_ax.plot(tSamp[1:], principle[1:], label='principle') \n",
    "T1_ax.set_title(\"T1 Balance (non-rebasing token)\", fontsize=20)\n",
    "T1_ax.set_ylabel(\"Token balance\", fontsize=16)\n",
    "T1_ax.set_xlabel('Time', fontsize=16)\n",
    "T1_ax.legend()\n",
    "\n",
    "TCT1_states = TCT1.get_state_series(tct_addr)\n",
    "principle = TCT1_states.get_principle() \n",
    "balance = TCT1_states.get_balance() \n",
    "tSamp = TCT1_states.get_tstamp() \n",
    "\n",
    "TCT1_ax.plot(tSamp[1:], balance[1:], label='balance') \n",
    "TCT1_ax.plot(tSamp[1:], principle[1:], label='principle') \n",
    "TCT1_ax.set_title(\"TCT1 Balance (rebasing token)\", fontsize=20)\n",
    "TCT1_ax.set_ylabel(\"Token balance\", fontsize=16)\n",
    "TCT1_ax.set_xlabel('Time', fontsize=16)\n",
    "TCT1_ax.legend()\n",
    "\n",
    "LP1_states = LP1.get_state_series(lp1_addr)\n",
    "principle = LP1_states.get_principle() \n",
    "balance = LP1_states.get_balance() \n",
    "tSamp = LP1_states.get_tstamp() \n",
    "\n",
    "LP1_ax.plot(tSamp[1:], balance[1:], label='balance') \n",
    "LP1_ax.plot(tSamp[1:], principle[1:], label='principle') \n",
    "LP1_ax.set_title(\"LP1 Balance (non-rebasing token)\", fontsize=20)\n",
    "LP1_ax.set_ylabel(\"Token balance\", fontsize=16)\n",
    "LP1_ax.set_xlabel('Time', fontsize=16)\n",
    "LP1_ax.legend()\n"
   ]
  },
  {
   "cell_type": "code",
   "execution_count": null,
   "id": "0c25b55e-7dea-459e-a365-21c592f58830",
   "metadata": {},
   "outputs": [],
   "source": [
    "lp = orchestrator.get_liquidity_pool('T1/TCT')\n",
    "tSamp = lp.get_lp_events().get_dates()\n",
    "prices = lp.get_lp_events().get_prices()\n",
    "liquidities = lp.get_lp_events().get_liquidity_values()\n",
    "\n",
    "fig, (L_ax, P_ax) = plt.subplots(nrows=2, sharex=True, sharey=False, figsize=(12, 10))\n",
    "\n",
    "L_ax.plot(tSamp[1:], prices[1:], label='prices') \n",
    "L_ax.set_title(\"T1/TCT Price\", fontsize=20)\n",
    "L_ax.set_ylabel(\"price\", fontsize=16)\n",
    "L_ax.set_xlabel('Time', fontsize=16)\n",
    "L_ax.legend()\n",
    "\n",
    "P_ax.plot(tSamp[1:], liquidities[1:], label='liquidities') \n",
    "P_ax.set_title(\"T1/TCT LP\", fontsize=20)\n",
    "P_ax.set_ylabel(\"liquidity\", fontsize=16)\n",
    "P_ax.set_xlabel('Time', fontsize=16)\n",
    "P_ax.legend()\n"
   ]
  }
 ],
 "metadata": {
  "kernelspec": {
   "display_name": "Python 3 (ipykernel)",
   "language": "python",
   "name": "python3"
  },
  "language_info": {
   "codemirror_mode": {
    "name": "ipython",
    "version": 3
   },
   "file_extension": ".py",
   "mimetype": "text/x-python",
   "name": "python",
   "nbconvert_exporter": "python",
   "pygments_lexer": "ipython3",
   "version": "3.9.7"
  }
 },
 "nbformat": 4,
 "nbformat_minor": 5
}
