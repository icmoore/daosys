{
 "cells": [
  {
   "cell_type": "code",
   "execution_count": null,
   "id": "908a39cd-34bc-4943-a103-23cf0fabcde3",
   "metadata": {},
   "outputs": [],
   "source": [
    "import os\n",
    "import copy\n",
    "import numpy as np\n",
    "import time\n",
    "import matplotlib.pyplot as plt\n",
    "cwd =  os.getcwd()"
   ]
  },
  {
   "cell_type": "code",
   "execution_count": null,
   "id": "00ccc689-4f39-4ed9-bb75-44eb455de6f8",
   "metadata": {},
   "outputs": [],
   "source": [
    "cwd"
   ]
  },
  {
   "cell_type": "code",
   "execution_count": 1,
   "id": "32f47799-edf3-48af-8b01-a56e2e62d00c",
   "metadata": {},
   "outputs": [],
   "source": [
    "import os\n",
    "import copy\n",
    "import numpy as np\n",
    "import time\n",
    "import matplotlib.pyplot as plt\n",
    "from IPython.display import Image\n",
    "cwd =  os.getcwd().replace(\"notebooks/tutorials\",\"\")\n",
    "os.chdir(cwd)\n",
    "\n",
    "from python.dev.helper import Helper\n",
    "\n",
    "from python.dev.simulation import SimulationOrchestrator\n",
    "from python.dev.simulation import EventQueue\n",
    "from python.dev.simulation import EventExecutor\n",
    "\n",
    "from python.dev.agent import TokenAgent\n",
    "from python.dev.agent import LPTokenAgent\n",
    "from python.dev.agent import UserAgent\n",
    "\n",
    "from python.dev.action import MintAction\n",
    "from python.dev.event import Mint\n",
    "\n",
    "from python.dev.simulation.batch import WithdrawBatch\n",
    "from python.dev.simulation.batch import DepositBatch\n",
    "from python.dev.simulation.batch import LPDepositBatch\n",
    "from python.dev.simulation.batch import SwapBatch\n",
    "from python.dev.simulation.batch.set import BatchSet\n",
    "\n",
    "from python.dev.math.model import TokenDeltaModel\n",
    "from python.dev.math.model import TimeDeltaModel\n",
    "\n",
    "from python.dev.lp import LiquidityPool\n",
    "from python.dev.lp.event import LPEvent\n",
    "from python.dev.lp.event import MintLPEvent\n",
    "from python.dev.lp.event import DepositLPEvent\n",
    "from python.dev.lp.event import SwapLPEvent"
   ]
  },
  {
   "cell_type": "code",
   "execution_count": null,
   "id": "9c3eb6ee-7113-4318-8032-1d580fe49f48",
   "metadata": {},
   "outputs": [],
   "source": [
    "\n",
    "Image(\"test.png\")"
   ]
  }
 ],
 "metadata": {
  "kernelspec": {
   "display_name": "Python 3 (ipykernel)",
   "language": "python",
   "name": "python3"
  },
  "language_info": {
   "codemirror_mode": {
    "name": "ipython",
    "version": 3
   },
   "file_extension": ".py",
   "mimetype": "text/x-python",
   "name": "python",
   "nbconvert_exporter": "python",
   "pygments_lexer": "ipython3",
   "version": "3.9.7"
  }
 },
 "nbformat": 4,
 "nbformat_minor": 5
}
